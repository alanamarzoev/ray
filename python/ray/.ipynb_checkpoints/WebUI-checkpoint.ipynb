{
 "cells": [
  {
   "cell_type": "markdown",
   "metadata": {},
   "source": [
    "# Evaluate the box below to initialize the web UI."
   ]
  },
  {
   "cell_type": "code",
   "execution_count": null,
   "metadata": {},
   "outputs": [],
   "source": [
    "import binascii\n",
    "import os\n",
    "import pandas as pd\n",
    "import qgrid \n",
    "import ray\n",
    "import redis\n",
    "import sys"
   ]
  },
  {
   "cell_type": "code",
   "execution_count": null,
   "metadata": {},
   "outputs": [],
   "source": [
    "redis_address = os.environ[\"REDIS_ADDRESS\"]\n",
    "ray.init(redis_address=redis_address)"
   ]
  },
  {
   "cell_type": "code",
   "execution_count": null,
   "metadata": {},
   "outputs": [],
   "source": [
    "addr, port = ray.worker.global_worker.redis_address.split(\":\")\n",
    "rc = redis.StrictRedis(host=addr, port=port, decode_responses=True, encoding='latin-1', encoding_errors='replace')"
   ]
  },
  {
   "cell_type": "markdown",
   "metadata": {},
   "source": [
    "# Task and Actor Information "
   ]
  },
  {
   "cell_type": "markdown",
   "metadata": {},
   "source": [
    "### Remote Function Information \n"
   ]
  },
  {
   "cell_type": "code",
   "execution_count": null,
   "metadata": {},
   "outputs": [],
   "source": [
    "fn_table = ray.global_state.function_table()\n",
    "fn_list = []\n",
    "for fn_id in fn_table:\n",
    "    val = fn_table[fn_id]\n",
    "    val[\"function_id\"] = fn_id\n",
    "    fn_list.append(val)\n",
    "qgrid.nbinstall(overwrite = True)\n",
    "frame = pd.DataFrame(fn_list) \n",
    "frame.columns = [\"DriverID\", \"Module\", \"Function\", \"FunctionID\"]\n",
    "qgrid.show_grid(frame)"
   ]
  },
  {
   "cell_type": "markdown",
   "metadata": {},
   "source": [
    "### Task Information "
   ]
  },
  {
   "cell_type": "code",
   "execution_count": null,
   "metadata": {},
   "outputs": [],
   "source": [
    "from pandas.io.json import json_normalize\n",
    "\n",
    "tt = ray.global_state.task_table()\n",
    "tt_list = list(tt.values())\n",
    "for d in tt_list:\n",
    "    d['TaskSpec']['ReturnObjectIDs'] = [oid.hex() for oid in d['TaskSpec']['ReturnObjectIDs']]\n",
    "    d['TaskSpec']['Args'] = [arg.hex() if isinstance(arg, ray.local_scheduler.ObjectID) else arg for arg in d['TaskSpec']['Args']]\n",
    "\n",
    "task_df = json_normalize(tt_list)\n",
    "task_df.columns = [\"Local Scheduler ID\", \"State\", \"Actor Counter\", \"ActorID\", \"Arguments\", \"DriverID\", \"FunctionID\", \n",
    "                  \"Parent Counter\", \"Parent Task ID\", \"Required CPUs\", \"Required GPUs\", \"Return Object IDs\", \"TaskID\" ]\n",
    "qgrid.show_grid(task_df)"
   ]
  },
  {
   "cell_type": "markdown",
   "metadata": {},
   "source": [
    "### Actor Information \n"
   ]
  },
  {
   "cell_type": "code",
   "execution_count": null,
   "metadata": {},
   "outputs": [],
   "source": [
    "def hex_identifier(identifier):\n",
    "    return binascii.hexlify(identifier).decode()\n",
    "\n",
    "actor_info = dict()\n",
    "actors = rc.keys(\"Actor*\") \n",
    "for actor in actors:\n",
    "    actor_key_str = actor[len('Actor:'):]\n",
    "    actor_key_bytes = actor_key_str.encode('latin-1')\n",
    "    actor_info['Actor:{}'.format(hex_identifier(actor_key_bytes))] = rc.hgetall(actor)\n",
    "    x = actor_info['Actor:{}'.format(hex_identifier(actor_key_bytes))]\n",
    "    if 'class_id' in x: \n",
    "        class_key_bytes = x['class_id'].encode('latin-1')\n",
    "        x['class_id'] = format(hex_identifier(class_key_bytes))\n",
    "    if 'driver_id' in x: \n",
    "        driver_bytes = x['driver_id'].encode('latin-1')\n",
    "        x['driver_id'] = format(hex_identifier(driver_bytes))\n",
    "\n",
    "actor_df = pd.DataFrame.from_dict(actor_info)\n",
    "df = actor_df.T\n",
    "df.index.name = \"ActorID\"\n",
    "df.columns = [ \"Method\", \"Class\", \"Class ID\", \"Class Name\", \"DriverID\", \"Module\", \"Num GPUs\"] \n",
    "qgrid.show_grid(df)"
   ]
  },
  {
   "cell_type": "markdown",
   "metadata": {},
   "source": [
    "# System State Information \n"
   ]
  },
  {
   "cell_type": "markdown",
   "metadata": {},
   "source": [
    "### Node Information"
   ]
  },
  {
   "cell_type": "code",
   "execution_count": null,
   "metadata": {
    "scrolled": true
   },
   "outputs": [],
   "source": [
    "ctable = ray.global_state.client_table()\n",
    "\n",
    "client_list = []\n",
    "for node_ip in ctable:\n",
    "    for client in ctable[node_ip]:\n",
    "        client[\"node_ip_address\"] = node_ip\n",
    "        client_list.append(client)\n",
    "\n",
    "client_df = pd.DataFrame(client_list)\n",
    "client_df.columns = [\"Aux Address\", \"Client Type\", \"DB Client ID\", \"Deleted\", \"Local Scheduler Socket\", \"Num CPUs\", \"NumGPUs\", \"Node IP Address\"]\n",
    "qgrid.show_grid(client_df)"
   ]
  },
  {
   "cell_type": "markdown",
   "metadata": {},
   "source": [
    "### Worker Information "
   ]
  },
  {
   "cell_type": "code",
   "execution_count": null,
   "metadata": {},
   "outputs": [],
   "source": [
    "workers = rc.keys(\"Worker*\") \n",
    "worker_info = dict()\n",
    "for worker in workers:\n",
    "    worker_key_str = worker[len('Workers:'):]\n",
    "    worker_key_bytes = worker_key_str.encode('latin-1')\n",
    "    worker_info['Workers:{}'.format(hex_identifier(worker_key_bytes))] = rc.hgetall(worker)\n",
    "table = pd.DataFrame.from_dict(worker_info)\n",
    "table_t = table.T\n",
    "table_t.index.name = \"WorkerID\"\n",
    "table_t.columns = [\"Local Scheduler Socket\", \"Node IP Address\", \"Plasma Manager Socket\", \"Plasma Store Socket\", \"Stderr File\", \"Stdout File\"]\n",
    "qgrid.show_grid(table_t)"
   ]
  },
  {
   "cell_type": "markdown",
   "metadata": {},
   "source": [
    "### Object Store Information\n"
   ]
  },
  {
   "cell_type": "code",
   "execution_count": null,
   "metadata": {
    "collapsed": true
   },
   "outputs": [],
   "source": [
    "object_dict = {oid.hex(): v for oid, v in ray.global_state.object_table().items()}\n",
    "object_df = pd.DataFrame(object_dict).transpose()\n",
    "object_df.index.name = \"ObjectID\"\n",
    "object_df.columns = [\"Data Size\", \"Hash\", \"IsPut\", \"ManagerIDs\", \"TaskID\"]\n",
    "qgrid.show_grid(object_df)"
   ]
  },
  {
   "cell_type": "markdown",
   "metadata": {},
   "source": [
    "# Error Information\n"
   ]
  },
  {
   "cell_type": "code",
   "execution_count": null,
   "metadata": {},
   "outputs": [],
   "source": [
    "event_names = rc.keys(\"event_log*\")\n",
    "error_profiles = dict()\n",
    "for i in range(len(event_names)):\n",
    "    event_list = rc.lrange(event_names[i], 0, -1)\n",
    "    for event in event_list:\n",
    "        event_dict = json.loads(event)\n",
    "        task_id = \"\"\n",
    "        traceback = \"\"\n",
    "        worker_id = \"\"\n",
    "        start_time = -1\n",
    "    for element in event_dict:\n",
    "        if element[1] == \"ray:task:execute\" and element[2] == 1:\n",
    "            start_time = element[0]\n",
    "        if \"task_id\" in element[3] and \"worker_id\" in element[3]:\n",
    "            task_id = element[3][\"task_id\"]\n",
    "            worker_id = element[3][\"worker_id\"]\n",
    "        if \"traceback\" in element[3]:\n",
    "            traceback = element[3][\"traceback\"]\n",
    "        if task_id != \"\" and worker_id != \"\" and traceback != \"\":\n",
    "            if start_time != -1:\n",
    "                error_profiles[task_id] = dict()\n",
    "                error_profiles[task_id][\"worker_id\"] = worker_id\n",
    "                error_profiles[task_id][\"traceback\"] = traceback\n",
    "                error_profiles[task_id][\"start_time\"] = start_time\n",
    "table = pd.DataFrame.from_dict(error_profiles) \n",
    "qgrid.show_grid(table.T)"
   ]
  },
  {
   "cell_type": "code",
   "execution_count": null,
   "metadata": {
    "collapsed": true
   },
   "outputs": [],
   "source": []
  }
 ],
 "metadata": {
  "kernelspec": {
   "display_name": "Python 3",
   "language": "python",
   "name": "python3"
  },
  "language_info": {
   "codemirror_mode": {
    "name": "ipython",
    "version": 3
   },
   "file_extension": ".py",
   "mimetype": "text/x-python",
   "name": "python",
   "nbconvert_exporter": "python",
   "pygments_lexer": "ipython3",
   "version": "3.6.1"
  }
 },
 "nbformat": 4,
 "nbformat_minor": 2
}
