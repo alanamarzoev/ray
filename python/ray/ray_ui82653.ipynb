{
 "cells": [
  {
   "cell_type": "code",
   "execution_count": 1,
   "metadata": {},
   "outputs": [
    {
     "data": {
      "text/plain": [
       "{'local_scheduler_socket_names': ['/tmp/scheduler84824091'],\n",
       " 'node_ip_address': '127.0.0.1',\n",
       " 'object_store_addresses': [ObjectStoreAddress(name='/tmp/plasma_store39630539', manager_name='/tmp/plasma_manager75845157', manager_port=64435)],\n",
       " 'redis_address': '127.0.0.1:57463'}"
      ]
     },
     "execution_count": 1,
     "metadata": {},
     "output_type": "execute_result"
    }
   ],
   "source": [
    "import ipywidgets as widgets\n",
    "import numpy as np\n",
    "import os\n",
    "import ray\n",
    "import subprocess\n",
    "import tempfile\n",
    "import time\n",
    "\n",
    "from IPython.display import display\n",
    "\n",
    "ray.init(redis_address=os.environ[\"REDIS_ADDRESS\"])"
   ]
  },
  {
   "cell_type": "markdown",
   "metadata": {
    "collapsed": true
   },
   "source": [
    "#### Evaluate the box below to search for objects."
   ]
  },
  {
   "cell_type": "code",
   "execution_count": 2,
   "metadata": {},
   "outputs": [
    {
     "data": {
      "application/vnd.jupyter.widget-view+json": {
       "model_id": "c11528f2497549a392592d720b0dd938"
      }
     },
     "metadata": {},
     "output_type": "display_data"
    }
   ],
   "source": [
    "object_search = widgets.Text(\n",
    "    value=\"\",\n",
    "    placeholder=\"Object ID\",\n",
    "    description=\"Search for an object:\",\n",
    "    disabled=False\n",
    ")\n",
    "display(object_search)\n",
    "\n",
    "def handle_submit(sender):\n",
    "    pp = pprint.PrettyPrinter()\n",
    "    pp.pprint(ray.global_state.object_table(object_search.value))\n",
    "\n",
    "object_search.on_submit(handle_submit)"
   ]
  },
  {
   "cell_type": "markdown",
   "metadata": {},
   "source": [
    "#### Evaluate the box below to search for tasks."
   ]
  },
  {
   "cell_type": "code",
   "execution_count": 3,
   "metadata": {},
   "outputs": [
    {
     "data": {
      "application/vnd.jupyter.widget-view+json": {
       "model_id": "afa0536c69634f4f8363af704470ee35"
      }
     },
     "metadata": {},
     "output_type": "display_data"
    }
   ],
   "source": [
    "from IPython.display import display, IFrame\n",
    "import shutil\n",
    " \n",
    "def write_document(json_url, html_url):\n",
    "    with open('index.html') as f:\n",
    "        data = f.read()\n",
    "    data = data.replace('REPLACE_THIS_STRING', json_url)\n",
    "    with open(html_url, 'w+') as f:\n",
    "        f.write(data)\n",
    "        \n",
    "task_search = widgets.Text(\n",
    "    value=\"\",\n",
    "    placeholder=\"Task ID\",\n",
    "    description=\"Search for a task:\",\n",
    "    disabled=False\n",
    ")\n",
    "display(task_search)\n",
    "\n",
    "task_table = ray.global_state.task_table() \n",
    "\n",
    "def handle_submit(sender):\n",
    "    tmp = tempfile.mktemp() + \".json\"\n",
    "    tmp2 = tempfile.mktemp() + \".html\"\n",
    "    html_file = tmp2\n",
    "    nodes_x, objects, edges = ray.global_state.computation_graph(task_search.value)\n",
    "    path = os.path.expanduser(\"~/Desktop/test.json\")\n",
    "    ray.global_state.dump_catapult_trace(tmp, nodes_x, edges=edges, objects=objects)\n",
    "    shutil.copy(tmp, 'tmp_trace.json')\n",
    "    write_document('tmp_trace.json', 'to_display.html')\n",
    "    display(IFrame('to_display.html', 900, 800))\n",
    "      \n",
    "\n",
    "task_search.on_submit(handle_submit)"
   ]
  },
  {
   "cell_type": "code",
   "execution_count": 4,
   "metadata": {
    "collapsed": true
   },
   "outputs": [],
   "source": [
    "# Instances of this class maintains keep track of whether or not a\n",
    "# callback is currently executing. Since the execution of the callback\n",
    "# may trigger more calls to the callback, this is used to prevent infinite\n",
    "# recursions.\n",
    "class _EventRecursionContextManager(object):\n",
    "    def __init__(self):\n",
    "        self.should_recurse = True\n",
    "   \n",
    "    def __enter__(self):\n",
    "        self.should_recurse = False\n",
    "       \n",
    "    def __exit__(self, *args):\n",
    "        self.should_recurse = True\n",
    "\n",
    "total_time_value = \"% total time\"\n",
    "total_tasks_value = \"% total tasks\"\n",
    "\n",
    "# Function that returns instances of sliders and handles associated events.\n",
    "def get_sliders(update):\n",
    "    # Start_box value indicates the desired start point of queried window.\n",
    "    start_box = widgets.FloatText(\n",
    "        description=\"Start Time:\",\n",
    "        disabled=True,\n",
    "    )\n",
    "    \n",
    "    # End_box value indicates the desired end point of queried window.\n",
    "    end_box = widgets.FloatText(\n",
    "        description=\"End Time:\",\n",
    "        disabled=True,\n",
    "    )\n",
    "    \n",
    "    # Percentage slider. Indicates either % of total time or total tasks\n",
    "    # depending on what breakdown_opt is set to.\n",
    "    range_slider = widgets.IntRangeSlider(\n",
    "        value=[70, 100],\n",
    "        min=0,\n",
    "        max=100,\n",
    "        step=1,\n",
    "        description=\"%:\",\n",
    "        continuous_update=False,\n",
    "        orientation=\"horizontal\",\n",
    "        readout=True,\n",
    "        readout_format=\".0i%\",\n",
    "    )\n",
    "    \n",
    "    # Indicates the number of tasks that the user wants to be returned. Is\n",
    "    # disabled when the breakdown_opt value is set to total_time_value. \n",
    "    num_tasks_box = widgets.IntText(\n",
    "        description=\"Num Tasks:\",\n",
    "        disabled=False\n",
    "    )\n",
    "    \n",
    "    # Dropdown bar that lets the user choose between modifying % of total\n",
    "    # time or total number of tasks.\n",
    "    breakdown_opt = widgets.Dropdown(\n",
    "        options=[total_time_value, total_tasks_value],\n",
    "        value=total_tasks_value,\n",
    "        description=\"Selection Options:\"\n",
    "    )\n",
    "   \n",
    "    # Initially passed in to the update_wrapper function.\n",
    "    INIT_EVENT = \"INIT\"\n",
    "    \n",
    "    # Create instance of context manager to determine whether callback is\n",
    "    # currently executing \n",
    "    out_recursion = _EventRecursionContextManager()\n",
    "   \n",
    "    def update_wrapper(event):\n",
    "        # Feature received a callback, but it shouldn't be executed\n",
    "        # because the callback was the result of a different feature\n",
    "        # executing its callback based on user input. \n",
    "        if not out_recursion.should_recurse:\n",
    "            return\n",
    "        \n",
    "        # Feature received a callback and it should be executed because\n",
    "        # the callback was the result of user input. \n",
    "        with out_recursion:\n",
    "            smallest, largest, num_tasks = ray.global_state._job_length()\n",
    "            diff = largest - smallest\n",
    "            if num_tasks is not 0: \n",
    "                \n",
    "                # Describes the initial values that the slider/text box\n",
    "                # values should be set to.\n",
    "                if event == INIT_EVENT:\n",
    "                    if breakdown_opt.value == total_tasks_value:\n",
    "                        num_tasks_box.value = -min(10000, num_tasks)\n",
    "                        range_slider.value = (int(100 - (100. * -num_tasks_box.value) / num_tasks), 100)\n",
    "                    else:\n",
    "                        low, high = map(lambda x: x / 100., range_slider.value)\n",
    "                        start_box.value = round(diff * low, 2)\n",
    "                        end_box.value = round(diff * high, 2)\n",
    "                        \n",
    "                # Event was triggered by a change in the start_box value. \n",
    "                elif event[\"owner\"] == start_box:\n",
    "                    if start_box.value > end_box.value:\n",
    "                        start_box.value = end_box.value\n",
    "                    elif start_box.value < 0:\n",
    "                        start_box.value = 0\n",
    "                    low, high = range_slider.value\n",
    "                    range_slider.value = (int((start_box.value * 100.) / diff), high)\n",
    "                    \n",
    "                # Event was triggered by a change in the end_box value. \n",
    "                elif event[\"owner\"] == end_box:\n",
    "                    if start_box.value > end_box.value:\n",
    "                        end_box.value = start_box.value\n",
    "                    elif end_box.value > diff:\n",
    "                        end_box.value = diff\n",
    "                    low, high = range_slider.value\n",
    "                    range_slider.value = (low, int((end_box.value * 100.) / diff))\n",
    "                    \n",
    "                # Event was triggered by a change in the breakdown options\n",
    "                # toggle.\n",
    "                elif event[\"owner\"] == breakdown_opt:\n",
    "                    if breakdown_opt.value == total_tasks_value:\n",
    "                        start_box.disabled = True\n",
    "                        end_box.disabled = True\n",
    "                        num_tasks_box.disabled = False\n",
    "                        num_tasks_box.value = min(10000, num_tasks)\n",
    "                        range_slider.value = (int(100 - (100. * num_tasks_box.value) / num_tasks), 100)\n",
    "                    else:\n",
    "                        start_box.disabled = False\n",
    "                        end_box.disabled = False\n",
    "                        num_tasks_box.disabled = True\n",
    "                        range_slider.value = (int((start_box.value * 100.) / diff),\n",
    "                                              int((end_box.value * 100.) / diff))\n",
    "                        \n",
    "                # Event was triggered by a change in the range_slider\n",
    "                # value.\n",
    "                elif event[\"owner\"] == range_slider:\n",
    "                    low, high = map(lambda x: x / 100., range_slider.value)\n",
    "                    if breakdown_opt.value == total_tasks_value:\n",
    "                        old_low, old_high = event[\"old\"]\n",
    "                        new_low, new_high = event[\"new\"]\n",
    "                        if old_low != new_low:\n",
    "                            range_slider.value = (new_low, 100)\n",
    "                            num_tasks_box.value = -(100. - new_low) / 100. * num_tasks\n",
    "                        else:\n",
    "                            range_slider.value = (0, new_high)\n",
    "                            num_tasks_box.value = new_high / 100. * num_tasks\n",
    "                    else:\n",
    "                        start_box.value = round(diff * low, 2)\n",
    "                        end_box.value = round(diff * high, 2)\n",
    "                        \n",
    "                # Event was triggered by a change in the num_tasks_box\n",
    "                # value.\n",
    "                elif event[\"owner\"] == num_tasks_box:\n",
    "                    if num_tasks_box.value > 0:\n",
    "                        range_slider.value = (0, int(100 * float(num_tasks_box.value) / num_tasks))\n",
    "                    elif num_tasks_box.value < 0:\n",
    "                        range_slider.value = (100 + int(100 * float(num_tasks_box.value) / num_tasks), 100)\n",
    "               \n",
    "                if not update:\n",
    "                    return\n",
    "\n",
    "                diff = largest - smallest\n",
    "                \n",
    "                # Low and high are used to scale the times that are\n",
    "                # queried to be relative to the absolute time. \n",
    "                low, high = map(lambda x: x / 100., range_slider.value)\n",
    "                \n",
    "                # Queries to task_profiles based on the slider and text\n",
    "                # box values.\n",
    "                # (Querying based on the % total amount of time.) \n",
    "                if breakdown_opt.value == total_time_value:\n",
    "                    tasks = ray.global_state.task_profiles(start=smallest + diff * low, end=smallest + diff * high)\n",
    "                    \n",
    "                # (Querying based on % of total number of tasks that were\n",
    "                # run.)\n",
    "                elif breakdown_opt.value == total_tasks_value:\n",
    "                    if range_slider.value[0] == 0:\n",
    "                        tasks = ray.global_state.task_profiles(num_tasks=int(num_tasks * high), fwd=True)\n",
    "                    else:\n",
    "                        tasks = ray.global_state.task_profiles(num_tasks=int(num_tasks * (high - low)), fwd=False)\n",
    "\n",
    "                update(smallest, largest, num_tasks, tasks)\n",
    "    \n",
    "    # Get updated values from a slider or text box, and update the rest of\n",
    "    # them accordingly.\n",
    "    range_slider.observe(update_wrapper, names=\"value\")\n",
    "    breakdown_opt.observe(update_wrapper, names=\"value\")\n",
    "    start_box.observe(update_wrapper, names=\"value\")\n",
    "    end_box.observe(update_wrapper, names=\"value\")\n",
    "    num_tasks_box.observe(update_wrapper, names=\"value\")\n",
    "    \n",
    "    # Initializes the sliders\n",
    "    update_wrapper(INIT_EVENT)\n",
    "    \n",
    "    # Display sliders and search boxes \n",
    "    display(start_box, end_box, range_slider, num_tasks_box, breakdown_opt)\n",
    "   \n",
    "    # Return the sliders and text boxes \n",
    "    return start_box, end_box, range_slider, breakdown_opt"
   ]
  },
  {
   "cell_type": "code",
   "execution_count": 5,
   "metadata": {},
   "outputs": [
    {
     "data": {
      "application/vnd.jupyter.widget-view+json": {
       "model_id": "6ce0833eddec4bd58d099ddd59776215"
      }
     },
     "metadata": {},
     "output_type": "display_data"
    },
    {
     "data": {
      "application/vnd.jupyter.widget-view+json": {
       "model_id": "f62d0fd3874947b18a12f9042fff2758"
      }
     },
     "metadata": {},
     "output_type": "display_data"
    },
    {
     "data": {
      "application/vnd.jupyter.widget-view+json": {
       "model_id": "7aadcc4097034e0e81800f839054b2ab"
      }
     },
     "metadata": {},
     "output_type": "display_data"
    },
    {
     "data": {
      "application/vnd.jupyter.widget-view+json": {
       "model_id": "a3c0e28c0b1d4bcdae2e6ba80fc5995c"
      }
     },
     "metadata": {},
     "output_type": "display_data"
    },
    {
     "data": {
      "application/vnd.jupyter.widget-view+json": {
       "model_id": "6bcbb6946a3a40b28d214ebfdffb4d4a"
      }
     },
     "metadata": {},
     "output_type": "display_data"
    },
    {
     "data": {
      "application/vnd.jupyter.widget-view+json": {
       "model_id": "24ced430da68450dbdc1d2c57312a176"
      }
     },
     "metadata": {},
     "output_type": "display_data"
    },
    {
     "data": {
      "application/vnd.jupyter.widget-view+json": {
       "model_id": "69e071fe59a643ecab277adab11868be"
      }
     },
     "metadata": {},
     "output_type": "display_data"
    }
   ],
   "source": [
    "def task_timeline():\n",
    "    path_input = widgets.Button(description=\"View task timeline\")\n",
    "\n",
    "    breakdown_basic = \"Basic\"\n",
    "    breakdown_task = \"Task Breakdowns\"\n",
    "    \n",
    "    breakdown_opt = widgets.Dropdown(\n",
    "        options=[\"Basic\", \"Task Breakdowns\"],\n",
    "        value=\"Basic\",\n",
    "        description=\"View options:\",\n",
    "        disabled=False,\n",
    "    )\n",
    "    \n",
    "    start_box, end_box, range_slider, time_opt = get_sliders(False)\n",
    "    display(breakdown_opt)\n",
    "    display(path_input)\n",
    "\n",
    "    def find_trace2html():\n",
    "        trace2html = \"/tmp/ray/catapult/tracing/bin/trace2html\"\n",
    "        # Clone the catapult repository if it doesn't exist. TODO(rkn): We\n",
    "        # could do this in the build.sh script later on.\n",
    "        if not os.path.exists(trace2html): \n",
    "            cmd = [\"git\", \"clone\", \"https://github.com/catapult-project/catapult.git\", \"/tmp/ray/catapult\"]\n",
    "            subprocess.check_output(cmd) \n",
    "            print(\"Cloning catapult to /tmp/ray/catapult.\")\n",
    "        assert os.path.exists(trace2html)\n",
    "        return trace2html\n",
    "\n",
    "    def handle_submit(sender):\n",
    "        tmp = tempfile.mktemp() + \".json\"\n",
    "        tmp2 = tempfile.mktemp() + \".html\"\n",
    "        \n",
    "        if breakdown_opt.value == breakdown_basic:\n",
    "            breakdown = False\n",
    "        elif breakdown_opt.value == breakdown_task:\n",
    "            breakdown = True\n",
    "        else:\n",
    "            raise ValueError(\"Unexpected breakdown value '{}'\".format(breakdown_opt.value))\n",
    "            \n",
    "        low, high = map(lambda x: x / 100., range_slider.value)\n",
    "        \n",
    "        smallest, largest, num_tasks = ray.global_state._job_length()\n",
    "        diff = largest - smallest\n",
    "\n",
    "        if time_opt.value == total_time_value:\n",
    "            tasks = ray.global_state.task_profiles(start=smallest + diff * low, end=smallest + diff * high)\n",
    "        elif time_opt.value == total_tasks_value:\n",
    "            if range_slider.value[0] == 0:\n",
    "                tasks = ray.global_state.task_profiles(num_tasks=int(num_tasks * high), fwd=True)\n",
    "            else:\n",
    "                tasks = ray.global_state.task_profiles(num_tasks=int(num_tasks * (high - low)), fwd=False)\n",
    "        else:\n",
    "            raise ValueError(\"Unexpected time value '{}'\".format(time_opt.value))\n",
    "        \n",
    "        print(\"{} tasks to trace\".format(len(tasks)))\n",
    "        print(\"Dumping task profiling data to \" + tmp)\n",
    "        ray.global_state.dump_catapult_trace(tmp, tasks, breakdowns=breakdown)\n",
    "        print(\"Converting chrome trace to \" + tmp2)\n",
    "        trace2html = find_trace2html()\n",
    "        # TODO(rkn): The trace2html script currently requires Python 2.\n",
    "        # Remove this dependency.\n",
    "        subprocess.check_output([\"python2\", trace2html, tmp, \"--output\", tmp2])\n",
    "        # Open the timeline in Chrome. TODO(rkn): We should remove the\n",
    "        # dependency on Chrome and use whatever browser is currently being\n",
    "        # used. Note that this currently does not work when Ray is being\n",
    "        # used on a cluster and the browser is running locally.\n",
    "        print(\"Opening html file in browser...\")\n",
    "        subprocess.Popen([\"open\", \"-a\", \"Google Chrome\", tmp2])\n",
    "\n",
    "    path_input.on_click(handle_submit)\n",
    "\n",
    "task_timeline()"
   ]
  },
  {
   "cell_type": "markdown",
   "metadata": {},
   "source": [
    "#### Task duration distribution plot."
   ]
  },
  {
   "cell_type": "code",
   "execution_count": 6,
   "metadata": {},
   "outputs": [
    {
     "data": {
      "text/html": [
       "\n",
       "    <div class=\"bk-root\">\n",
       "        <a href=\"http://bokeh.pydata.org\" target=\"_blank\" class=\"bk-logo bk-logo-small bk-logo-notebook\"></a>\n",
       "        <span id=\"872eebed-f982-4649-aa71-048533d7e841\">Loading BokehJS ...</span>\n",
       "    </div>"
      ]
     },
     "metadata": {},
     "output_type": "display_data"
    },
    {
     "data": {
      "application/javascript": [
       "\n",
       "(function(global) {\n",
       "  function now() {\n",
       "    return new Date();\n",
       "  }\n",
       "\n",
       "  var force = true;\n",
       "\n",
       "  if (typeof (window._bokeh_onload_callbacks) === \"undefined\" || force === true) {\n",
       "    window._bokeh_onload_callbacks = [];\n",
       "    window._bokeh_is_loading = undefined;\n",
       "  }\n",
       "\n",
       "\n",
       "  \n",
       "  if (typeof (window._bokeh_timeout) === \"undefined\" || force === true) {\n",
       "    window._bokeh_timeout = Date.now() + 5000;\n",
       "    window._bokeh_failed_load = false;\n",
       "  }\n",
       "\n",
       "  var NB_LOAD_WARNING = {'data': {'text/html':\n",
       "     \"<div style='background-color: #fdd'>\\n\"+\n",
       "     \"<p>\\n\"+\n",
       "     \"BokehJS does not appear to have successfully loaded. If loading BokehJS from CDN, this \\n\"+\n",
       "     \"may be due to a slow or bad network connection. Possible fixes:\\n\"+\n",
       "     \"</p>\\n\"+\n",
       "     \"<ul>\\n\"+\n",
       "     \"<li>re-rerun `output_notebook()` to attempt to load from CDN again, or</li>\\n\"+\n",
       "     \"<li>use INLINE resources instead, as so:</li>\\n\"+\n",
       "     \"</ul>\\n\"+\n",
       "     \"<code>\\n\"+\n",
       "     \"from bokeh.resources import INLINE\\n\"+\n",
       "     \"output_notebook(resources=INLINE)\\n\"+\n",
       "     \"</code>\\n\"+\n",
       "     \"</div>\"}};\n",
       "\n",
       "  function display_loaded() {\n",
       "    if (window.Bokeh !== undefined) {\n",
       "      var el = document.getElementById(\"872eebed-f982-4649-aa71-048533d7e841\");\n",
       "      el.textContent = \"BokehJS \" + Bokeh.version + \" successfully loaded.\";\n",
       "    } else if (Date.now() < window._bokeh_timeout) {\n",
       "      setTimeout(display_loaded, 100)\n",
       "    }\n",
       "  }\n",
       "\n",
       "  function run_callbacks() {\n",
       "    try {\n",
       "      window._bokeh_onload_callbacks.forEach(function(callback) { callback() });\n",
       "    }\n",
       "    finally {\n",
       "      delete window._bokeh_onload_callbacks\n",
       "    }\n",
       "    console.info(\"Bokeh: all callbacks have finished\");\n",
       "  }\n",
       "\n",
       "  function load_libs(js_urls, callback) {\n",
       "    window._bokeh_onload_callbacks.push(callback);\n",
       "    if (window._bokeh_is_loading > 0) {\n",
       "      console.log(\"Bokeh: BokehJS is being loaded, scheduling callback at\", now());\n",
       "      return null;\n",
       "    }\n",
       "    if (js_urls == null || js_urls.length === 0) {\n",
       "      run_callbacks();\n",
       "      return null;\n",
       "    }\n",
       "    console.log(\"Bokeh: BokehJS not loaded, scheduling load and callback at\", now());\n",
       "    window._bokeh_is_loading = js_urls.length;\n",
       "    for (var i = 0; i < js_urls.length; i++) {\n",
       "      var url = js_urls[i];\n",
       "      var s = document.createElement('script');\n",
       "      s.src = url;\n",
       "      s.async = false;\n",
       "      s.onreadystatechange = s.onload = function() {\n",
       "        window._bokeh_is_loading--;\n",
       "        if (window._bokeh_is_loading === 0) {\n",
       "          console.log(\"Bokeh: all BokehJS libraries loaded\");\n",
       "          run_callbacks()\n",
       "        }\n",
       "      };\n",
       "      s.onerror = function() {\n",
       "        console.warn(\"failed to load library \" + url);\n",
       "      };\n",
       "      console.log(\"Bokeh: injecting script tag for BokehJS library: \", url);\n",
       "      document.getElementsByTagName(\"head\")[0].appendChild(s);\n",
       "    }\n",
       "  };var element = document.getElementById(\"872eebed-f982-4649-aa71-048533d7e841\");\n",
       "  if (element == null) {\n",
       "    console.log(\"Bokeh: ERROR: autoload.js configured with elementid '872eebed-f982-4649-aa71-048533d7e841' but no matching script tag was found. \")\n",
       "    return false;\n",
       "  }\n",
       "\n",
       "  var js_urls = [\"https://cdn.pydata.org/bokeh/release/bokeh-0.12.6.min.js\", \"https://cdn.pydata.org/bokeh/release/bokeh-widgets-0.12.6.min.js\"];\n",
       "\n",
       "  var inline_js = [\n",
       "    function(Bokeh) {\n",
       "      Bokeh.set_log_level(\"info\");\n",
       "    },\n",
       "    \n",
       "    function(Bokeh) {\n",
       "      \n",
       "    },\n",
       "    \n",
       "    function(Bokeh) {\n",
       "      \n",
       "      document.getElementById(\"872eebed-f982-4649-aa71-048533d7e841\").textContent = \"BokehJS is loading...\";\n",
       "    },\n",
       "    function(Bokeh) {\n",
       "      console.log(\"Bokeh: injecting CSS: https://cdn.pydata.org/bokeh/release/bokeh-0.12.6.min.css\");\n",
       "      Bokeh.embed.inject_css(\"https://cdn.pydata.org/bokeh/release/bokeh-0.12.6.min.css\");\n",
       "      console.log(\"Bokeh: injecting CSS: https://cdn.pydata.org/bokeh/release/bokeh-widgets-0.12.6.min.css\");\n",
       "      Bokeh.embed.inject_css(\"https://cdn.pydata.org/bokeh/release/bokeh-widgets-0.12.6.min.css\");\n",
       "    }\n",
       "  ];\n",
       "\n",
       "  function run_inline_js() {\n",
       "    \n",
       "    if ((window.Bokeh !== undefined) || (force === true)) {\n",
       "      for (var i = 0; i < inline_js.length; i++) {\n",
       "        inline_js[i](window.Bokeh);\n",
       "      }if (force === true) {\n",
       "        display_loaded();\n",
       "      }} else if (Date.now() < window._bokeh_timeout) {\n",
       "      setTimeout(run_inline_js, 100);\n",
       "    } else if (!window._bokeh_failed_load) {\n",
       "      console.log(\"Bokeh: BokehJS failed to load within specified timeout.\");\n",
       "      window._bokeh_failed_load = true;\n",
       "    } else if (force !== true) {\n",
       "      var cell = $(document.getElementById(\"872eebed-f982-4649-aa71-048533d7e841\")).parents('.cell').data().cell;\n",
       "      cell.output_area.append_execute_result(NB_LOAD_WARNING)\n",
       "    }\n",
       "\n",
       "  }\n",
       "\n",
       "  if (window._bokeh_is_loading === 0) {\n",
       "    console.log(\"Bokeh: BokehJS loaded, going straight to plotting\");\n",
       "    run_inline_js();\n",
       "  } else {\n",
       "    load_libs(js_urls, function() {\n",
       "      console.log(\"Bokeh: BokehJS plotting callback run at\", now());\n",
       "      run_inline_js();\n",
       "    });\n",
       "  }\n",
       "}(this));"
      ]
     },
     "metadata": {},
     "output_type": "display_data"
    },
    {
     "data": {
      "text/html": [
       "\n",
       "\n",
       "    <div class=\"bk-root\">\n",
       "        <div class=\"bk-plotdiv\" id=\"d0b849a8-934e-4369-b6d0-360cc041a04e\"></div>\n",
       "    </div>\n",
       "<script type=\"text/javascript\">\n",
       "  \n",
       "  (function(global) {\n",
       "    function now() {\n",
       "      return new Date();\n",
       "    }\n",
       "  \n",
       "    var force = false;\n",
       "  \n",
       "    if (typeof (window._bokeh_onload_callbacks) === \"undefined\" || force === true) {\n",
       "      window._bokeh_onload_callbacks = [];\n",
       "      window._bokeh_is_loading = undefined;\n",
       "    }\n",
       "  \n",
       "  \n",
       "    \n",
       "    if (typeof (window._bokeh_timeout) === \"undefined\" || force === true) {\n",
       "      window._bokeh_timeout = Date.now() + 0;\n",
       "      window._bokeh_failed_load = false;\n",
       "    }\n",
       "  \n",
       "    var NB_LOAD_WARNING = {'data': {'text/html':\n",
       "       \"<div style='background-color: #fdd'>\\n\"+\n",
       "       \"<p>\\n\"+\n",
       "       \"BokehJS does not appear to have successfully loaded. If loading BokehJS from CDN, this \\n\"+\n",
       "       \"may be due to a slow or bad network connection. Possible fixes:\\n\"+\n",
       "       \"</p>\\n\"+\n",
       "       \"<ul>\\n\"+\n",
       "       \"<li>re-rerun `output_notebook()` to attempt to load from CDN again, or</li>\\n\"+\n",
       "       \"<li>use INLINE resources instead, as so:</li>\\n\"+\n",
       "       \"</ul>\\n\"+\n",
       "       \"<code>\\n\"+\n",
       "       \"from bokeh.resources import INLINE\\n\"+\n",
       "       \"output_notebook(resources=INLINE)\\n\"+\n",
       "       \"</code>\\n\"+\n",
       "       \"</div>\"}};\n",
       "  \n",
       "    function display_loaded() {\n",
       "      if (window.Bokeh !== undefined) {\n",
       "        var el = document.getElementById(\"d0b849a8-934e-4369-b6d0-360cc041a04e\");\n",
       "        el.textContent = \"BokehJS \" + Bokeh.version + \" successfully loaded.\";\n",
       "      } else if (Date.now() < window._bokeh_timeout) {\n",
       "        setTimeout(display_loaded, 100)\n",
       "      }\n",
       "    }if ((window.Jupyter !== undefined) && Jupyter.notebook.kernel) {\n",
       "      comm_manager = Jupyter.notebook.kernel.comm_manager\n",
       "      comm_manager.register_target(\"6d8a8783-a97d-4a68-8617-08d9fce7da17\", function () {});\n",
       "    }\n",
       "  \n",
       "    function run_callbacks() {\n",
       "      try {\n",
       "        window._bokeh_onload_callbacks.forEach(function(callback) { callback() });\n",
       "      }\n",
       "      finally {\n",
       "        delete window._bokeh_onload_callbacks\n",
       "      }\n",
       "      console.info(\"Bokeh: all callbacks have finished\");\n",
       "    }\n",
       "  \n",
       "    function load_libs(js_urls, callback) {\n",
       "      window._bokeh_onload_callbacks.push(callback);\n",
       "      if (window._bokeh_is_loading > 0) {\n",
       "        console.log(\"Bokeh: BokehJS is being loaded, scheduling callback at\", now());\n",
       "        return null;\n",
       "      }\n",
       "      if (js_urls == null || js_urls.length === 0) {\n",
       "        run_callbacks();\n",
       "        return null;\n",
       "      }\n",
       "      console.log(\"Bokeh: BokehJS not loaded, scheduling load and callback at\", now());\n",
       "      window._bokeh_is_loading = js_urls.length;\n",
       "      for (var i = 0; i < js_urls.length; i++) {\n",
       "        var url = js_urls[i];\n",
       "        var s = document.createElement('script');\n",
       "        s.src = url;\n",
       "        s.async = false;\n",
       "        s.onreadystatechange = s.onload = function() {\n",
       "          window._bokeh_is_loading--;\n",
       "          if (window._bokeh_is_loading === 0) {\n",
       "            console.log(\"Bokeh: all BokehJS libraries loaded\");\n",
       "            run_callbacks()\n",
       "          }\n",
       "        };\n",
       "        s.onerror = function() {\n",
       "          console.warn(\"failed to load library \" + url);\n",
       "        };\n",
       "        console.log(\"Bokeh: injecting script tag for BokehJS library: \", url);\n",
       "        document.getElementsByTagName(\"head\")[0].appendChild(s);\n",
       "      }\n",
       "    };var element = document.getElementById(\"d0b849a8-934e-4369-b6d0-360cc041a04e\");\n",
       "    if (element == null) {\n",
       "      console.log(\"Bokeh: ERROR: autoload.js configured with elementid 'd0b849a8-934e-4369-b6d0-360cc041a04e' but no matching script tag was found. \")\n",
       "      return false;\n",
       "    }\n",
       "  \n",
       "    var js_urls = [];\n",
       "  \n",
       "    var inline_js = [\n",
       "      function(Bokeh) {\n",
       "        (function() {\n",
       "          var fn = function() {\n",
       "            var docs_json = {\"09baef05-c0a8-47c8-93d9-4a5941a5b1ef\":{\"roots\":{\"references\":[{\"attributes\":{\"callback\":null,\"column_names\":[\"top\",\"left\",\"right\"],\"data\":{\"left\":[],\"right\":[],\"top\":[]}},\"id\":\"44256725-2f63-472c-85f8-fa4314c643e9\",\"type\":\"ColumnDataSource\"},{\"attributes\":{\"active_drag\":\"auto\",\"active_inspect\":\"auto\",\"active_scroll\":\"auto\",\"active_tap\":\"auto\",\"tools\":[{\"id\":\"2320c381-01b6-433c-90ae-e1ce2223ebdd\",\"type\":\"SaveTool\"},{\"id\":\"72a9757c-81da-4c32-9719-4bfb6504ec36\",\"type\":\"HoverTool\"},{\"id\":\"5aa9cc69-aa0e-486c-9f4f-fbed465ccf2a\",\"type\":\"WheelZoomTool\"},{\"id\":\"f28d72ad-62ed-4c24-909c-fd919f956da2\",\"type\":\"BoxZoomTool\"},{\"id\":\"6ca265fe-38ba-40ff-865d-d661a28f2a6d\",\"type\":\"PanTool\"}]},\"id\":\"d9f92ce7-9da3-4025-b6b2-0d3843a8fd5a\",\"type\":\"Toolbar\"},{\"attributes\":{\"children\":[{\"id\":\"45815644-d3e7-4d28-bac6-61b1ca133eb7\",\"type\":\"Row\"}]},\"id\":\"6637f30f-700f-49ed-a151-6006a0c8a024\",\"type\":\"Column\"},{\"attributes\":{},\"id\":\"7393c030-4dd9-465f-b7e2-850d7f8dcc85\",\"type\":\"LinearScale\"},{\"attributes\":{\"axis_label\":\"Duration in seconds\",\"formatter\":{\"id\":\"0c291c2d-9d8a-4bf5-a286-6febd6f38927\",\"type\":\"BasicTickFormatter\"},\"plot\":{\"id\":\"e36e7751-691b-46c6-8ca6-dadd605132cc\",\"subtype\":\"Figure\",\"type\":\"Plot\"},\"ticker\":{\"id\":\"d6b3d9b2-888b-46b8-ad6e-c6af3e43c1f3\",\"type\":\"BasicTicker\"}},\"id\":\"4d517879-594d-4034-b024-cce318743e0f\",\"type\":\"LinearAxis\"},{\"attributes\":{},\"id\":\"d6b3d9b2-888b-46b8-ad6e-c6af3e43c1f3\",\"type\":\"BasicTicker\"},{\"attributes\":{\"plot\":{\"id\":\"e36e7751-691b-46c6-8ca6-dadd605132cc\",\"subtype\":\"Figure\",\"type\":\"Plot\"},\"ticker\":{\"id\":\"d6b3d9b2-888b-46b8-ad6e-c6af3e43c1f3\",\"type\":\"BasicTicker\"}},\"id\":\"4ce59ec5-baa8-4a33-9b09-361f2e8cb51a\",\"type\":\"Grid\"},{\"attributes\":{\"axis_label\":\"Number of tasks\",\"formatter\":{\"id\":\"2209e49b-b1c2-4b67-948f-e05497dd34f4\",\"type\":\"BasicTickFormatter\"},\"plot\":{\"id\":\"e36e7751-691b-46c6-8ca6-dadd605132cc\",\"subtype\":\"Figure\",\"type\":\"Plot\"},\"ticker\":{\"id\":\"07964012-bd93-42a3-b6f9-fe6d60cd7ca9\",\"type\":\"BasicTicker\"}},\"id\":\"7cbcb249-9bf3-4b97-ab6f-657d643a1e4c\",\"type\":\"LinearAxis\"},{\"attributes\":{\"plot\":null,\"text\":\"Task Completion Time Distribution\"},\"id\":\"4c62b597-3033-4dcf-9842-a1985ca8169a\",\"type\":\"Title\"},{\"attributes\":{},\"id\":\"07964012-bd93-42a3-b6f9-fe6d60cd7ca9\",\"type\":\"BasicTicker\"},{\"attributes\":{\"dimension\":1,\"plot\":{\"id\":\"e36e7751-691b-46c6-8ca6-dadd605132cc\",\"subtype\":\"Figure\",\"type\":\"Plot\"},\"ticker\":{\"id\":\"07964012-bd93-42a3-b6f9-fe6d60cd7ca9\",\"type\":\"BasicTicker\"}},\"id\":\"b98b1990-9f20-4d23-acab-56667673b9f8\",\"type\":\"Grid\"},{\"attributes\":{\"plot\":{\"id\":\"e36e7751-691b-46c6-8ca6-dadd605132cc\",\"subtype\":\"Figure\",\"type\":\"Plot\"}},\"id\":\"2320c381-01b6-433c-90ae-e1ce2223ebdd\",\"type\":\"SaveTool\"},{\"attributes\":{\"bottom\":{\"value\":0},\"fill_color\":{\"value\":\"#B3B3B3\"},\"left\":{\"field\":\"left\"},\"line_color\":{\"value\":\"#033649\"},\"right\":{\"field\":\"right\"},\"top\":{\"field\":\"top\"}},\"id\":\"806d60f0-64e4-4adc-95a7-da7e2361e678\",\"type\":\"Quad\"},{\"attributes\":{\"children\":[{\"id\":\"e36e7751-691b-46c6-8ca6-dadd605132cc\",\"subtype\":\"Figure\",\"type\":\"Plot\"}]},\"id\":\"45815644-d3e7-4d28-bac6-61b1ca133eb7\",\"type\":\"Row\"},{\"attributes\":{\"sizing_mode\":\"scale_width\",\"toolbar_location\":\"below\",\"tools\":[{\"id\":\"2320c381-01b6-433c-90ae-e1ce2223ebdd\",\"type\":\"SaveTool\"},{\"id\":\"72a9757c-81da-4c32-9719-4bfb6504ec36\",\"type\":\"HoverTool\"},{\"id\":\"5aa9cc69-aa0e-486c-9f4f-fbed465ccf2a\",\"type\":\"WheelZoomTool\"},{\"id\":\"f28d72ad-62ed-4c24-909c-fd919f956da2\",\"type\":\"BoxZoomTool\"},{\"id\":\"6ca265fe-38ba-40ff-865d-d661a28f2a6d\",\"type\":\"PanTool\"}]},\"id\":\"87f67078-c38b-4fc2-bbd6-cc2b940a5154\",\"type\":\"ToolbarBox\"},{\"attributes\":{\"bottom_units\":\"screen\",\"fill_alpha\":{\"value\":0.5},\"fill_color\":{\"value\":\"lightgrey\"},\"left_units\":\"screen\",\"level\":\"overlay\",\"line_alpha\":{\"value\":1.0},\"line_color\":{\"value\":\"black\"},\"line_dash\":[4,4],\"line_width\":{\"value\":2},\"plot\":null,\"render_mode\":\"css\",\"right_units\":\"screen\",\"top_units\":\"screen\"},\"id\":\"8ad8878e-e03f-4edd-838e-b7a6acc8abfd\",\"type\":\"BoxAnnotation\"},{\"attributes\":{\"callback\":null,\"plot\":{\"id\":\"e36e7751-691b-46c6-8ca6-dadd605132cc\",\"subtype\":\"Figure\",\"type\":\"Plot\"}},\"id\":\"72a9757c-81da-4c32-9719-4bfb6504ec36\",\"type\":\"HoverTool\"},{\"attributes\":{\"plot\":{\"id\":\"e36e7751-691b-46c6-8ca6-dadd605132cc\",\"subtype\":\"Figure\",\"type\":\"Plot\"}},\"id\":\"5aa9cc69-aa0e-486c-9f4f-fbed465ccf2a\",\"type\":\"WheelZoomTool\"},{\"attributes\":{\"overlay\":{\"id\":\"8ad8878e-e03f-4edd-838e-b7a6acc8abfd\",\"type\":\"BoxAnnotation\"},\"plot\":{\"id\":\"e36e7751-691b-46c6-8ca6-dadd605132cc\",\"subtype\":\"Figure\",\"type\":\"Plot\"}},\"id\":\"f28d72ad-62ed-4c24-909c-fd919f956da2\",\"type\":\"BoxZoomTool\"},{\"attributes\":{\"plot\":{\"id\":\"e36e7751-691b-46c6-8ca6-dadd605132cc\",\"subtype\":\"Figure\",\"type\":\"Plot\"}},\"id\":\"6ca265fe-38ba-40ff-865d-d661a28f2a6d\",\"type\":\"PanTool\"},{\"attributes\":{},\"id\":\"9485f6f8-8167-41d2-a1d3-b8bc8fc2d8c7\",\"type\":\"ToolEvents\"},{\"attributes\":{},\"id\":\"2209e49b-b1c2-4b67-948f-e05497dd34f4\",\"type\":\"BasicTickFormatter\"},{\"attributes\":{\"data_source\":{\"id\":\"44256725-2f63-472c-85f8-fa4314c643e9\",\"type\":\"ColumnDataSource\"},\"glyph\":{\"id\":\"806d60f0-64e4-4adc-95a7-da7e2361e678\",\"type\":\"Quad\"},\"hover_glyph\":null,\"muted_glyph\":null,\"nonselection_glyph\":{\"id\":\"41b3b6da-2d05-4552-9ef0-334adf22b907\",\"type\":\"Quad\"},\"selection_glyph\":null},\"id\":\"c49334a0-7e9d-4124-853a-34f268773d76\",\"type\":\"GlyphRenderer\"},{\"attributes\":{\"children\":[{\"id\":\"6637f30f-700f-49ed-a151-6006a0c8a024\",\"type\":\"Column\"},{\"id\":\"87f67078-c38b-4fc2-bbd6-cc2b940a5154\",\"type\":\"ToolbarBox\"}]},\"id\":\"6ca8713a-8bef-461b-adda-65a287128d27\",\"type\":\"Column\"},{\"attributes\":{},\"id\":\"0c291c2d-9d8a-4bf5-a286-6febd6f38927\",\"type\":\"BasicTickFormatter\"},{\"attributes\":{\"background_fill_color\":{\"value\":\"#FFFFFF\"},\"below\":[{\"id\":\"4d517879-594d-4034-b024-cce318743e0f\",\"type\":\"LinearAxis\"}],\"left\":[{\"id\":\"7cbcb249-9bf3-4b97-ab6f-657d643a1e4c\",\"type\":\"LinearAxis\"}],\"plot_height\":500,\"plot_width\":500,\"renderers\":[{\"id\":\"4d517879-594d-4034-b024-cce318743e0f\",\"type\":\"LinearAxis\"},{\"id\":\"4ce59ec5-baa8-4a33-9b09-361f2e8cb51a\",\"type\":\"Grid\"},{\"id\":\"7cbcb249-9bf3-4b97-ab6f-657d643a1e4c\",\"type\":\"LinearAxis\"},{\"id\":\"b98b1990-9f20-4d23-acab-56667673b9f8\",\"type\":\"Grid\"},{\"id\":\"8ad8878e-e03f-4edd-838e-b7a6acc8abfd\",\"type\":\"BoxAnnotation\"},{\"id\":\"c49334a0-7e9d-4124-853a-34f268773d76\",\"type\":\"GlyphRenderer\"}],\"title\":{\"id\":\"4c62b597-3033-4dcf-9842-a1985ca8169a\",\"type\":\"Title\"},\"tool_events\":{\"id\":\"9485f6f8-8167-41d2-a1d3-b8bc8fc2d8c7\",\"type\":\"ToolEvents\"},\"toolbar\":{\"id\":\"d9f92ce7-9da3-4025-b6b2-0d3843a8fd5a\",\"type\":\"Toolbar\"},\"toolbar_location\":null,\"x_range\":{\"id\":\"18aca9c7-d9a6-4042-8fe1-5644e5b25f92\",\"type\":\"Range1d\"},\"x_scale\":{\"id\":\"5d2eb764-51b7-41d3-9bd7-d018bcddd561\",\"type\":\"LinearScale\"},\"y_range\":{\"id\":\"6516ff17-16b9-4bb4-9e57-f5a588ebcb35\",\"type\":\"Range1d\"},\"y_scale\":{\"id\":\"7393c030-4dd9-465f-b7e2-850d7f8dcc85\",\"type\":\"LinearScale\"}},\"id\":\"e36e7751-691b-46c6-8ca6-dadd605132cc\",\"subtype\":\"Figure\",\"type\":\"Plot\"},{\"attributes\":{\"callback\":null},\"id\":\"18aca9c7-d9a6-4042-8fe1-5644e5b25f92\",\"type\":\"Range1d\"},{\"attributes\":{\"callback\":null},\"id\":\"6516ff17-16b9-4bb4-9e57-f5a588ebcb35\",\"type\":\"Range1d\"},{\"attributes\":{\"bottom\":{\"value\":0},\"fill_alpha\":{\"value\":0.1},\"fill_color\":{\"value\":\"#1f77b4\"},\"left\":{\"field\":\"left\"},\"line_alpha\":{\"value\":0.1},\"line_color\":{\"value\":\"#1f77b4\"},\"right\":{\"field\":\"right\"},\"top\":{\"field\":\"top\"}},\"id\":\"41b3b6da-2d05-4552-9ef0-334adf22b907\",\"type\":\"Quad\"},{\"attributes\":{},\"id\":\"5d2eb764-51b7-41d3-9bd7-d018bcddd561\",\"type\":\"LinearScale\"}],\"root_ids\":[\"6ca8713a-8bef-461b-adda-65a287128d27\"]},\"title\":\"Bokeh Application\",\"version\":\"0.12.6\"}};\n",
       "            var render_items = [{\"docid\":\"09baef05-c0a8-47c8-93d9-4a5941a5b1ef\",\"elementid\":\"d0b849a8-934e-4369-b6d0-360cc041a04e\",\"modelid\":\"6ca8713a-8bef-461b-adda-65a287128d27\",\"notebook_comms_target\":\"6d8a8783-a97d-4a68-8617-08d9fce7da17\"}];\n",
       "            \n",
       "            Bokeh.embed.embed_items(docs_json, render_items);\n",
       "          };\n",
       "          if (document.readyState != \"loading\") fn();\n",
       "          else document.addEventListener(\"DOMContentLoaded\", fn);\n",
       "        })();\n",
       "      },\n",
       "      function(Bokeh) {\n",
       "      }\n",
       "    ];\n",
       "  \n",
       "    function run_inline_js() {\n",
       "      \n",
       "      if ((window.Bokeh !== undefined) || (force === true)) {\n",
       "        for (var i = 0; i < inline_js.length; i++) {\n",
       "          inline_js[i](window.Bokeh);\n",
       "        }if (force === true) {\n",
       "          display_loaded();\n",
       "        }} else if (Date.now() < window._bokeh_timeout) {\n",
       "        setTimeout(run_inline_js, 100);\n",
       "      } else if (!window._bokeh_failed_load) {\n",
       "        console.log(\"Bokeh: BokehJS failed to load within specified timeout.\");\n",
       "        window._bokeh_failed_load = true;\n",
       "      } else if (force !== true) {\n",
       "        var cell = $(document.getElementById(\"d0b849a8-934e-4369-b6d0-360cc041a04e\")).parents('.cell').data().cell;\n",
       "        cell.output_area.append_execute_result(NB_LOAD_WARNING)\n",
       "      }\n",
       "  \n",
       "    }\n",
       "  \n",
       "    if (window._bokeh_is_loading === 0) {\n",
       "      console.log(\"Bokeh: BokehJS loaded, going straight to plotting\");\n",
       "      run_inline_js();\n",
       "    } else {\n",
       "      load_libs(js_urls, function() {\n",
       "        console.log(\"Bokeh: BokehJS plotting callback run at\", now());\n",
       "        run_inline_js();\n",
       "      });\n",
       "    }\n",
       "  }(this));\n",
       "</script>"
      ]
     },
     "metadata": {},
     "output_type": "display_data"
    },
    {
     "data": {
      "application/vnd.jupyter.widget-view+json": {
       "model_id": "4f6225e655204f86b70ebb7eed366aad"
      }
     },
     "metadata": {},
     "output_type": "display_data"
    },
    {
     "data": {
      "application/vnd.jupyter.widget-view+json": {
       "model_id": "8114a1e36da749f5955225ad53f6ca3c"
      }
     },
     "metadata": {},
     "output_type": "display_data"
    },
    {
     "data": {
      "application/vnd.jupyter.widget-view+json": {
       "model_id": "be641ddba1244e6585a9dec72dd7a7f8"
      }
     },
     "metadata": {},
     "output_type": "display_data"
    },
    {
     "data": {
      "application/vnd.jupyter.widget-view+json": {
       "model_id": "0cced119a0c54544afa45538bbfba8ac"
      }
     },
     "metadata": {},
     "output_type": "display_data"
    },
    {
     "data": {
      "application/vnd.jupyter.widget-view+json": {
       "model_id": "f4a09f3416d34c728c212842434f0a8b"
      }
     },
     "metadata": {},
     "output_type": "display_data"
    }
   ],
   "source": [
    "from bokeh.models import Range1d, ColumnDataSource\n",
    "from bokeh.layouts import gridplot\n",
    "from bokeh.plotting import figure, show, helpers\n",
    "from bokeh.io import output_notebook, push_notebook\n",
    "from bokeh.resources import CDN\n",
    "output_notebook(resources=CDN)\n",
    "\n",
    "\n",
    "def task_completion_time_distribution():\n",
    "    # Create the Bokeh plot \n",
    "    p = figure(title=\"Task Completion Time Distribution\",tools=[\"save\", \"hover\", \"wheel_zoom\", \"box_zoom\", \"pan\"],\n",
    "                background_fill_color=\"#FFFFFF\", x_range=(0, 1), y_range = (0, 1))\n",
    "    \n",
    "    # Create the data source that the plot pulls from \n",
    "    source = ColumnDataSource(data={\n",
    "        \"top\": [],\n",
    "        \"left\": [],\n",
    "        \"right\": []\n",
    "    })\n",
    "    \n",
    "    # Plot the histogram rectangles\n",
    "    p.quad(top=\"top\", bottom=0, left=\"left\", right=\"right\", source=source,\n",
    "            fill_color=\"#B3B3B3\", line_color=\"#033649\")\n",
    "\n",
    "    # Label the plot axes \n",
    "    p.xaxis.axis_label = \"Duration in seconds\"\n",
    "    p.yaxis.axis_label = \"Number of tasks\"\n",
    "\n",
    "    handle = show(gridplot(p, ncols=1, plot_width=500, plot_height=500, toolbar_location=\"below\"),\n",
    "                 notebook_handle=True)\n",
    "\n",
    "    # Function to update the plot \n",
    "    def task_completion_time_update(abs_earliest, abs_latest, abs_num_tasks, tasks):\n",
    "        if len(tasks) == 0:\n",
    "            return\n",
    "        \n",
    "        # Create the distribution to plot\n",
    "        distr = []\n",
    "        for task_id, data in tasks.items():\n",
    "            distr.append(data[\"store_outputs_end\"] - data[\"get_arguments_start\"])\n",
    "            \n",
    "        # Create a histogram from the distribution \n",
    "        top, bin_edges = np.histogram(distr, bins=\"auto\")\n",
    "        left = bin_edges[:-1]\n",
    "        right = bin_edges[1:]\n",
    "\n",
    "        source.data = {\"top\": top, \"left\": left, \"right\": right}\n",
    "        \n",
    "        # Set the x and y ranges \n",
    "        x_range = (min(left) if len(left) else 0, max(right) if len(right) else 1)\n",
    "        y_range = (0, max(top) + 1 if len(top) else 1)\n",
    "        \n",
    "        x_range = helpers._get_range(x_range)\n",
    "        p.x_range.start = x_range.start\n",
    "        p.x_range.end = x_range.end\n",
    "\n",
    "        y_range = helpers._get_range(y_range)\n",
    "        p.y_range.start = y_range.start\n",
    "        p.y_range.end = y_range.end\n",
    "        \n",
    "        # Push updates to the plot\n",
    "        push_notebook(handle=handle)\n",
    "    \n",
    "    get_sliders(task_completion_time_update)\n",
    "\n",
    "task_completion_time_distribution()"
   ]
  },
  {
   "cell_type": "code",
   "execution_count": 8,
   "metadata": {},
   "outputs": [
    {
     "data": {
      "application/vnd.jupyter.widget-view+json": {
       "model_id": "3470c7f45fa8459fa9b99d7e3fed447f"
      }
     },
     "metadata": {},
     "output_type": "display_data"
    },
    {
     "data": {
      "application/vnd.jupyter.widget-view+json": {
       "model_id": "2505114d07604fa7b897904f6df9cec1"
      }
     },
     "metadata": {},
     "output_type": "display_data"
    },
    {
     "data": {
      "application/vnd.jupyter.widget-view+json": {
       "model_id": "c02f2af015c444128ef8f40ed9a2a4bf"
      }
     },
     "metadata": {},
     "output_type": "display_data"
    },
    {
     "data": {
      "application/vnd.jupyter.widget-view+json": {
       "model_id": "b4a91b52d8294f64b35f86541d5b6ed9"
      }
     },
     "metadata": {},
     "output_type": "display_data"
    },
    {
     "data": {
      "application/vnd.jupyter.widget-view+json": {
       "model_id": "f8816a7370494261b5c93cd7d2ab9707"
      }
     },
     "metadata": {},
     "output_type": "display_data"
    },
    {
     "data": {
      "application/vnd.jupyter.widget-view+json": {
       "model_id": "669a8dbcf0734ec3a2d22ef501e699ae"
      }
     },
     "metadata": {},
     "output_type": "display_data"
    },
    {
     "data": {
      "application/vnd.jupyter.widget-view+json": {
       "model_id": "0f6a9cea7e454bdc9801ceb52dad3776"
      }
     },
     "metadata": {},
     "output_type": "display_data"
    },
    {
     "name": "stdout",
     "output_type": "stream",
     "text": [
      "20 tasks to trace\n",
      "Creating JSON 80/20\n"
     ]
    },
    {
     "data": {
      "text/html": [
       "\n",
       "        <iframe\n",
       "            width=\"900\"\n",
       "            height=\"800\"\n",
       "            src=\"to_display.html\"\n",
       "            frameborder=\"0\"\n",
       "            allowfullscreen\n",
       "        ></iframe>\n",
       "        "
      ],
      "text/plain": [
       "<IPython.lib.display.IFrame at 0x112580e48>"
      ]
     },
     "metadata": {},
     "output_type": "display_data"
    }
   ],
   "source": [
    "from IPython.display import display, IFrame\n",
    "import shutil\n",
    " \n",
    "def write_document(json_url, html_url):\n",
    "    with open('index.html') as f:\n",
    "        data = f.read()\n",
    "    data = data.replace('REPLACE_THIS_STRING', json_url)\n",
    "    with open(html_url, 'w+') as f:\n",
    "        f.write(data)\n",
    "\n",
    "def task_timeline():\n",
    "    path_input = widgets.Button(description=\"View task timeline\")\n",
    " \n",
    "    breakdown_basic = \"Basic\"\n",
    "    breakdown_task = \"Task Breakdowns\"\n",
    "   \n",
    "    breakdown_opt = widgets.Dropdown(\n",
    "        options=[\"Basic\", \"Task Breakdowns\"],\n",
    "        value=\"Basic\",\n",
    "        description=\"View options:\",\n",
    "        disabled=False,\n",
    "    )\n",
    "   \n",
    "    start_box, end_box, range_slider, time_opt = get_sliders(False)\n",
    "    display(breakdown_opt)\n",
    "    display(path_input)\n",
    "   \n",
    "    def find_trace2html():\n",
    "        trace2html = \"/tmp/ray/catapult/tracing/bin/trace2html\"\n",
    "        # Clone the catapult repository if it doesn't exist. TODO(rkn): We\n",
    "        # could do this in the build.sh script later on.\n",
    "        if not os.path.exists(trace2html):\n",
    "            cmd = [\"git\", \"clone\", \"https://github.com/catapult-project/catapult.git\", \"/tmp/ray/catapult\"]\n",
    "            subprocess.check_output(cmd)\n",
    "            print(\"Cloning catapult to /tmp/ray/catapult.\")\n",
    "        assert os.path.exists(trace2html)\n",
    "        return trace2html\n",
    " \n",
    "    def handle_submit(sender):\n",
    "        tmp = tempfile.mktemp() + \".json\"\n",
    "        tmp2 = tempfile.mktemp() + \".html\"\n",
    "        html_file = tmp2\n",
    "        if breakdown_opt.value == breakdown_basic:\n",
    "            breakdown = False\n",
    "        elif breakdown_opt.value == breakdown_task:\n",
    "            breakdown = True\n",
    "        else:\n",
    "            raise ValueError(\"Unexpected breakdown value '{}'\".format(breakdown_opt.value))\n",
    "           \n",
    "        low, high = map(lambda x: x / 100., range_slider.value)\n",
    "       \n",
    "        smallest, largest, num_tasks = ray.global_state._job_length()\n",
    "        diff = largest - smallest\n",
    " \n",
    "        if time_opt.value == total_time_value:\n",
    "            tasks = ray.global_state.task_profiles(start=smallest + diff * low, end=smallest + diff * high)\n",
    "        elif time_opt.value == total_tasks_value:\n",
    "            if range_slider.value[0] == 0:\n",
    "                tasks = ray.global_state.task_profiles(num_tasks=int(num_tasks * high), fwd=True)\n",
    "            else:\n",
    "                tasks = ray.global_state.task_profiles(num_tasks=int(num_tasks * (high - low)), fwd=False)\n",
    "        else:\n",
    "            raise ValueError(\"Unexpected time value '{}'\".format(time_opt.value))\n",
    "       \n",
    "        print(\"{} tasks to trace\".format(len(tasks)))\n",
    "        nodes, objects = ray.global_state.computation_graph()\n",
    "        ray.global_state.dump_catapult_trace(tmp, tasks, objects=objects)\n",
    "        shutil.copy(tmp, 'tmp_trace.json')\n",
    "        write_document('tmp_trace.json', 'to_display.html')\n",
    "        display(IFrame('to_display.html', 900, 800))\n",
    "      \n",
    " \n",
    "    path_input.on_click(handle_submit)\n",
    "\n",
    "task_timeline()"
   ]
  },
  {
   "cell_type": "code",
   "execution_count": null,
   "metadata": {
    "collapsed": true
   },
   "outputs": [],
   "source": []
  }
 ],
 "metadata": {
  "kernelspec": {
   "display_name": "Python 3",
   "language": "python",
   "name": "python3"
  },
  "language_info": {
   "codemirror_mode": {
    "name": "ipython",
    "version": 3
   },
   "file_extension": ".py",
   "mimetype": "text/x-python",
   "name": "python",
   "nbconvert_exporter": "python",
   "pygments_lexer": "ipython3",
   "version": "3.6.1"
  }
 },
 "nbformat": 4,
 "nbformat_minor": 2
}
