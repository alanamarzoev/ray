{
 "cells": [
  {
   "cell_type": "markdown",
   "metadata": {},
   "source": [
    "# Ray web UI."
   ]
  },
  {
   "cell_type": "markdown",
   "metadata": {},
   "source": [
    "#### Evaluate the cells below to initialize the notebook."
   ]
  },
  {
   "cell_type": "code",
   "execution_count": null,
   "metadata": {
    "collapsed": true
   },
   "outputs": [],
   "source": [
    "%%html\n",
    "<script>\n",
    "  function code_toggle() {\n",
    "    if (code_shown){\n",
    "      $('div.input').hide('500');\n",
    "      $('#toggleButton').val('Show Code')\n",
    "    } else {\n",
    "      $('div.input').show('500');\n",
    "      $('#toggleButton').val('Hide Code')\n",
    "    }\n",
    "    code_shown = !code_shown\n",
    "  }\n",
    "\n",
    "  $( document ).ready(function(){\n",
    "    code_shown=false;\n",
    "    $('div.input').hide()\n",
    "  });\n",
    "</script>\n",
    "<form action=\"javascript:code_toggle()\"><input type=\"submit\" id=\"toggleButton\" value=\"Show Code\"></form>\n",
    "\n",
    "<button id=\"do_run_all\">Click to run all</button>\n",
    "<script>\n",
    "$(\"#do_run_all\").click(\n",
    "    function () {\n",
    "        $(\"#run_all_cells\").click();\n",
    "    }\n",
    ");\n",
    "</script>"
   ]
  },
  {
   "cell_type": "code",
   "execution_count": null,
   "metadata": {
    "collapsed": true
   },
   "outputs": [],
   "source": [
    "import ipywidgets as widgets\n",
    "import os\n",
    "import pandas as pd\n",
    "import pprint\n",
    "import qgrid\n",
    "import ray\n",
    "import subprocess\n",
    "import sys\n",
    "\n",
    "from IPython.display import display\n",
    "\n",
    "ray.init(redis_address=os.environ[\"REDIS_ADDRESS\"])"
   ]
  },
  {
   "cell_type": "markdown",
   "metadata": {},
   "source": [
    "#### Task timeline."
   ]
  },
  {
   "cell_type": "code",
   "execution_count": null,
   "metadata": {
    "collapsed": true
   },
   "outputs": [],
   "source": [
    "path_input = widgets.Button(description=\"View task timeline\")\n",
    "display(path_input)\n",
    "\n",
    "import tempfile\n",
    "\n",
    "def find_trace2html():\n",
    "    trace2html = os.path.join(\"/Users/michellemarzoev/Desktop/catapult/\", \"tracing/bin/trace2html\")\n",
    "    assert os.path.exists(trace2html), \"Could not find catapult, please clone it into your home directory from https://github.com/catapult-project/catapult/tree/master/tracing\"\n",
    "    return trace2html\n",
    "\n",
    "def handle_submit(sender):\n",
    "    tmp = tempfile.mktemp() + \".json\"\n",
    "    tmp2 = tempfile.mktemp() + \".html\"\n",
    "\n",
    "    print(\"Dumping task profiling data to \" + tmp)\n",
    "    ray.global_state.dump_catapult_trace(tmp)\n",
    "    print(\"Converting chrome trace to \" + tmp2)\n",
    "    trace2html = find_trace2html()\n",
    "    subprocess.check_output([\"python2\", trace2html, tmp, '--output', tmp2])\n",
    "    print(\"Opening html file in browser...\")\n",
    "    subprocess.Popen([\"open\", \"-a\", \"Google Chrome\", tmp2])\n",
    "\n",
    "path_input.on_click(handle_submit)"
   ]
  },
  {
   "cell_type": "markdown",
   "metadata": {},
   "source": [
    "#### Task time series."
   ]
  },
  {
   "cell_type": "code",
   "execution_count": null,
   "metadata": {
    "collapsed": true
   },
   "outputs": [],
   "source": [
    "import numpy as np\n",
    "import scipy.special\n",
    "from bokeh.layouts import gridplot\n",
    "from bokeh.plotting import figure, show\n",
    "from bokeh.resources import CDN\n",
    "from bokeh.io import output_notebook\n",
    "output_notebook(resources=CDN)\n",
    "from bokeh.models import Range1d\n",
    "\n",
    "buckets, earliest, latest, gran = ray.global_state.time_series()\n",
    "desired_range = (min(buckets), max(buckets)+10)\n",
    "distr = []\n",
    "for x in range(len(buckets)): \n",
    "    for y in range(buckets[x]): \n",
    "        distr.append(x)\n",
    "        \n",
    "p = figure(title=\"Task Time Series\",tools=[\"save\", \"hover\", \"wheel_zoom\", \"box_zoom\", \"pan\"],\n",
    "            background_fill_color=\"#FFFFFF\", y_range = desired_range, x_range = (0, latest - earliest))\n",
    "\n",
    "hist, bin_edges = np.histogram(distr, bins = range(len(buckets)))\n",
    "\n",
    "p.quad(top=hist, bottom=0, left=bin_edges[:-1], right=bin_edges[1:],\n",
    "        fill_color=\"gray\", line_color=\"#033649\")\n",
    "\n",
    "p.xaxis.axis_label = 'Time in seconds'\n",
    "p.yaxis.axis_label = 'Number of concurrent tasks'\n",
    "\n",
    "show(gridplot(p, ncols=1, plot_width=500, plot_height=500, toolbar_location=\"below\"))"
   ]
  },
  {
   "cell_type": "markdown",
   "metadata": {},
   "source": [
    "#### Task completion time distribution."
   ]
  },
  {
   "cell_type": "code",
   "execution_count": null,
   "metadata": {
    "collapsed": true
   },
   "outputs": [],
   "source": [
    "import time\n",
    "from bokeh.models import Range1d\n",
    "tasks, e, l = ray.global_state.task_profiles(start=0, end=time.time())\n",
    "unique = set()\n",
    "distr = []\n",
    "mu, sigma = 0, 0.5\n",
    "\n",
    "for task_id, data in tasks.items(): \n",
    "    unique.add(data[\"store_outputs_end\"] - data[\"get_task_start\"])\n",
    "    distr.append(data[\"store_outputs_end\"] - data[\"get_task_start\"])\n",
    "    \n",
    "p = figure(title=\"Task Completion Time Distribution\",tools=[\"save\", \"hover\", \"wheel_zoom\", \"box_zoom\", \"pan\"],\n",
    "            background_fill_color=\"#FFFFFF\", x_range = (0,10))\n",
    "# print(unique)\n",
    "hist, bin_edges = np.histogram(distr, bins = range(len(unique)))\n",
    "p.quad(top=hist, bottom=0, left=bin_edges[:-1], right=bin_edges[1:],\n",
    "        fill_color=\"gray\", line_color=\"#033649\")\n",
    "x = np.linspace(-2, 2, 1000)\n",
    "pdf = 1/(sigma * np.sqrt(2*np.pi)) * np.exp(-(x-mu)**2 / (2*sigma**2))\n",
    "cdf = (1+scipy.special.erf((x-mu)/np.sqrt(2*sigma**2)))/2\n",
    "p.line(x, pdf, line_color=\"blue\", line_width=8, alpha=0.7, legend=\"PDF\")\n",
    "p.line(x, cdf, line_color=\"red\", line_width=2, alpha=0.7, legend=\"CDF\")\n",
    "\n",
    "\n",
    "p.xaxis.axis_label = 'Time in seconds'\n",
    "p.yaxis.axis_label = 'Number of concurrent tasks'\n",
    "\n",
    "show(gridplot(p, ncols=1, plot_width=500, plot_height=500, toolbar_location=\"below\"))   "
   ]
  },
  {
   "cell_type": "markdown",
   "metadata": {},
   "source": [
    "#### Cluster usage."
   ]
  },
  {
   "cell_type": "code",
   "execution_count": null,
   "metadata": {
    "collapsed": true
   },
   "outputs": [],
   "source": [
    "from math import pi\n",
    "import pandas as pd\n",
    "import random\n",
    "from bokeh.io import show, output_notebook\n",
    "from bokeh.models import (\n",
    "    ColumnDataSource,\n",
    "    HoverTool,\n",
    "    LinearColorMapper,\n",
    "    BasicTicker,\n",
    "    PrintfTickFormatter,\n",
    "    ColorBar,\n",
    ")\n",
    "from bokeh.plotting import figure\n",
    "\n",
    "time = np.random.uniform(low=0, high=40, size=(50))\n",
    "node_ips = [\"127.0.0.1\", \"8.8.6.8\", \"8.8.8.8\", \"9.3.4.5\", \"9.3.6.5\"]\n",
    "node_ip_address = [random.choice(node_ips) for _ in range(50)]\n",
    "num_tasks = np.random.uniform(low=0, high=20, size=(50))\n",
    "\n",
    "df = pd.DataFrame({\"node_ip_address\":node_ip_address, \"time\":time, \"num_tasks\":num_tasks})\n",
    "\n",
    "colors = [\"#FFFFFF\", \"#E8E8E8\", \"#DCDCDC\", \"#D3D3D3\", \"#B8B8B8\", \"#A8A8A8\", \"#696969\", \"#383838\", \"#000000\"]\n",
    "mapper = LinearColorMapper(palette=colors, low=df.num_tasks.min(), high=df.num_tasks.max())\n",
    "source = ColumnDataSource(df)\n",
    "\n",
    "TOOLS = \"hover,save,xpan,box_zoom,reset,xwheel_zoom\"\n",
    "\n",
    "p = figure(title=\"Cluster Usage\", y_range=node_ip_address,\n",
    "           x_axis_location=\"above\", plot_width=900, plot_height=500,\n",
    "           tools=TOOLS, toolbar_location='below')\n",
    "\n",
    "p.grid.grid_line_color = None\n",
    "p.axis.axis_line_color = None\n",
    "# p.axis.major_tick_line_color = None\n",
    "p.axis.major_label_text_font_size = \"10pt\"\n",
    "p.axis.major_label_standoff = 0\n",
    "p.xaxis.major_label_orientation = pi / 3\n",
    "\n",
    "p.rect(x=\"time\", y=\"node_ip_address\", width=1, height=1,\n",
    "       source=source,\n",
    "       fill_color={'field': 'num_tasks', 'transform': mapper},\n",
    "       line_color=None)\n",
    "\n",
    "color_bar = ColorBar(color_mapper=mapper, major_label_text_font_size=\"8pt\",\n",
    "                     ticker=BasicTicker(desired_num_ticks=len(colors)),\n",
    "                     label_standoff=6, border_line_color=None, location=(0, 0))\n",
    "p.add_layout(color_bar, 'right')\n",
    "\n",
    "p.select_one(HoverTool).tooltips = [\n",
    "     ('Node IP Address', '@node_ip_address'),\n",
    "     ('Number of tasks running', '@num_tasks'),\n",
    "     ('Time', '@time')\n",
    "]\n",
    "\n",
    "\n",
    "p.xaxis.axis_label = \"Time in seconds\"\n",
    "p.yaxis.axis_label = \"Node IP Address\"\n",
    "\n",
    "show(p)"
   ]
  },
  {
   "cell_type": "markdown",
   "metadata": {},
   "source": [
    "**Object search.**"
   ]
  },
  {
   "cell_type": "code",
   "execution_count": null,
   "metadata": {
    "collapsed": true
   },
   "outputs": [],
   "source": [
    "object_search = widgets.Text(\n",
    "    value=\"\",\n",
    "    placeholder=\"Object ID\",\n",
    "    description=\"Search for an object:\",\n",
    "    disabled=False\n",
    ")\n",
    "display(object_search)\n",
    "\n",
    "def handle_submit(sender):\n",
    "    pp = pprint.PrettyPrinter()\n",
    "    pp.pprint(ray.global_state.object_table(object_search.value))\n",
    "\n",
    "object_search.on_submit(handle_submit)"
   ]
  },
  {
   "cell_type": "markdown",
   "metadata": {},
   "source": [
    "**Task search.**"
   ]
  },
  {
   "cell_type": "code",
   "execution_count": null,
   "metadata": {
    "collapsed": true
   },
   "outputs": [],
   "source": [
    "task_search = widgets.Text(\n",
    "    value=\"\",\n",
    "    placeholder=\"Task ID\",\n",
    "    description=\"Search for a task:\",\n",
    "    disabled=False\n",
    ")\n",
    "display(task_search)\n",
    "\n",
    "def handle_submit(sender):\n",
    "    pp = pprint.PrettyPrinter()\n",
    "    pp.pprint(ray.global_state.task_table(task_search.value))\n",
    "\n",
    "task_search.on_submit(handle_submit)"
   ]
  },
  {
   "cell_type": "markdown",
   "metadata": {},
   "source": [
    "#### Client information."
   ]
  },
  {
   "cell_type": "code",
   "execution_count": null,
   "metadata": {
    "collapsed": true
   },
   "outputs": [],
   "source": [
    "ctable = ray.global_state.client_table()\n",
    "\n",
    "client_list = []\n",
    "for node_ip in ctable:\n",
    "    for client in ctable[node_ip]:\n",
    "        client[\"node_ip_address\"] = node_ip\n",
    "        client_list.append(client)\n",
    "\n",
    "client_df = pd.DataFrame(client_list)\n",
    "if not client_df.empty:\n",
    "    client_df.columns = [\"Aux Address\", \"Client Type\", \"DB Client ID\", \"Deleted\", \"Local Scheduler Socket\", \"Num CPUs\", \"NumGPUs\", \"Node IP Address\"]\n",
    "qgrid.show_grid(client_df)"
   ]
  },
  {
   "cell_type": "markdown",
   "metadata": {},
   "source": [
    "#### Function information."
   ]
  },
  {
   "cell_type": "code",
   "execution_count": null,
   "metadata": {
    "collapsed": true
   },
   "outputs": [],
   "source": [
    "fn_table = ray.global_state.function_table()\n",
    "fn_list = []\n",
    "for fn_id in fn_table:\n",
    "    val = fn_table[fn_id]\n",
    "    val[\"function_id\"] = fn_id\n",
    "    fn_list.append(val)\n",
    "qgrid.nbinstall(overwrite = True)\n",
    "frame = pd.DataFrame(fn_list) \n",
    "frame = frame.reset_index(drop=True)\n",
    "if not frame.empty:\n",
    "    frame.columns = [\"DriverID\", \"Module\", \"Function\", \"FunctionID\"]\n",
    "qgrid.show_grid(frame, grid_options = {\"forceFitColumns\": False, \"defaultColumnWidth\": 200})"
   ]
  },
  {
   "cell_type": "markdown",
   "metadata": {},
   "source": [
    "#### Task information table. "
   ]
  },
  {
   "cell_type": "code",
   "execution_count": null,
   "metadata": {
    "collapsed": true
   },
   "outputs": [],
   "source": [
    "from pandas.io.json import json_normalize\n",
    "\n",
    "tt = ray.global_state.task_table()\n",
    "tt_list = list(tt.values())\n",
    "for d in tt_list:\n",
    "    d['TaskSpec']['ReturnObjectIDs'] = [oid.hex() for oid in d['TaskSpec']['ReturnObjectIDs']]\n",
    "    d['TaskSpec']['Args'] = [arg.hex() if isinstance(arg, ray.local_scheduler.ObjectID) else arg for arg in d['TaskSpec']['Args']]\n",
    "\n",
    "task_df = json_normalize(tt_list)\n",
    "if not task_df.empty: \n",
    "    task_df.columns = [\"Local Scheduler ID\", \"State\", \"Actor Counter\", \"ActorID\", \"Arguments\", \"DriverID\", \"FunctionID\", \n",
    "                      \"Parent Counter\", \"Parent Task ID\", \"Required CPUs\", \"Required GPUs\", \"Return Object IDs\", \"TaskID\" ]\n",
    "qgrid.show_grid(task_df, grid_options = {\"forceFitColumns\": True, \"defaultColumnWidth\": 200})"
   ]
  }
 ],
 "metadata": {
  "kernelspec": {
   "display_name": "Python 3",
   "language": "python",
   "name": "python3"
  },
  "language_info": {
   "codemirror_mode": {
    "name": "ipython",
    "version": 3
   },
   "file_extension": ".py",
   "mimetype": "text/x-python",
   "name": "python",
   "nbconvert_exporter": "python",
   "pygments_lexer": "ipython3",
   "version": "3.6.1"
  }
 },
 "nbformat": 4,
 "nbformat_minor": 2
}
