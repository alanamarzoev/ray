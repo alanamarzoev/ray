{
 "cells": [
  {
   "cell_type": "markdown",
   "metadata": {},
   "source": [
    "# Evaluate the boxes below to initialize the web UI."
   ]
  },
  {
   "cell_type": "code",
   "execution_count": null,
   "metadata": {
    "collapsed": true
   },
   "outputs": [],
   "source": [
    "%%html\n",
    "<script>\n",
    "  function code_toggle() {\n",
    "    if (code_shown){\n",
    "      $('div.input').hide('500');\n",
    "      $('#toggleButton').val('Show Code')\n",
    "    } else {\n",
    "      $('div.input').show('500');\n",
    "      $('#toggleButton').val('Hide Code')\n",
    "    }\n",
    "    code_shown = !code_shown\n",
    "  }\n",
    "\n",
    "  $( document ).ready(function(){\n",
    "    code_shown=false;\n",
    "    $('div.input').hide()\n",
    "  });\n",
    "</script>\n",
    "<form action=\"javascript:code_toggle()\"><input type=\"submit\" id=\"toggleButton\" value=\"Show Code\"></form>"
   ]
  },
  {
   "cell_type": "code",
   "execution_count": null,
   "metadata": {
    "collapsed": true
   },
   "outputs": [],
   "source": [
    "import os\n",
    "import pandas as pd\n",
    "import pprint\n",
    "import ipywidgets as widgets\n",
    "import ray\n",
    "import qgrid\n",
    "\n",
    "from IPython.display import display\n",
    "\n",
    "ray.init(redis_address=os.environ[\"REDIS_ADDRESS\"])"
   ]
  },
  {
   "cell_type": "markdown",
   "metadata": {},
   "source": [
    "**Evaluate the box below to search for objects.**"
   ]
  },
  {
   "cell_type": "code",
   "execution_count": null,
   "metadata": {
    "collapsed": true
   },
   "outputs": [],
   "source": [
    "object_search = widgets.Text(\n",
    "    value=\"\",\n",
    "    placeholder=\"Object ID\",\n",
    "    description=\"Search for an object:\",\n",
    "    disabled=False\n",
    ")\n",
    "display(object_search)\n",
    "\n",
    "def handle_submit(sender):\n",
    "    pp = pprint.PrettyPrinter()\n",
    "    pp.pprint(ray.global_state.object_table(object_search.value))\n",
    "\n",
    "object_search.on_submit(handle_submit)"
   ]
  },
  {
   "cell_type": "markdown",
   "metadata": {},
   "source": [
    "**Evaluate the box below to search for tasks.**"
   ]
  },
  {
   "cell_type": "code",
   "execution_count": null,
   "metadata": {
    "collapsed": true
   },
   "outputs": [],
   "source": [
    "task_search = widgets.Text(\n",
    "    value=\"\",\n",
    "    placeholder=\"Task ID\",\n",
    "    description=\"Search for a task:\",\n",
    "    disabled=False\n",
    ")\n",
    "display(task_search)\n",
    "\n",
    "def handle_submit(sender):\n",
    "    pp = pprint.PrettyPrinter()\n",
    "    pp.pprint(ray.global_state.task_table(task_search.value))\n",
    "\n",
    "task_search.on_submit(handle_submit)"
   ]
  },
  {
   "cell_type": "markdown",
   "metadata": {},
   "source": [
    "#### Evaluate this box to view client information."
   ]
  },
  {
   "cell_type": "code",
   "execution_count": null,
   "metadata": {
    "collapsed": true
   },
   "outputs": [],
   "source": [
    "ctable = ray.global_state.client_table()\n",
    "\n",
    "client_list = []\n",
    "for node_ip in ctable:\n",
    "    for client in ctable[node_ip]:\n",
    "        client[\"node_ip_address\"] = node_ip\n",
    "        client_list.append(client)\n",
    "\n",
    "client_df = pd.DataFrame(client_list)\n",
    "if not client_df.empty:\n",
    "    client_df.columns = [\"Aux Address\", \"Client Type\", \"DB Client ID\", \"Deleted\", \"Local Scheduler Socket\", \"Num CPUs\", \"NumGPUs\", \"Node IP Address\"]\n",
    "qgrid.show_grid(client_df)"
   ]
  },
  {
   "cell_type": "markdown",
   "metadata": {},
   "source": [
    "#### Evaluate this box to view function information."
   ]
  },
  {
   "cell_type": "code",
   "execution_count": null,
   "metadata": {
    "collapsed": true
   },
   "outputs": [],
   "source": [
    "fn_table = ray.global_state.function_table()\n",
    "fn_list = []\n",
    "for fn_id in fn_table:\n",
    "    val = fn_table[fn_id]\n",
    "    val[\"function_id\"] = fn_id\n",
    "    fn_list.append(val)\n",
    "qgrid.nbinstall(overwrite = True)\n",
    "frame = pd.DataFrame(fn_list) \n",
    "frame = frame.reset_index(drop=True)\n",
    "if not frame.empty:\n",
    "    frame.columns = [\"DriverID\", \"Module\", \"Function\", \"FunctionID\"]\n",
    "qgrid.show_grid(frame, grid_options = {\"forceFitColumns\": False, \"defaultColumnWidth\": 200})"
   ]
  },
  {
   "cell_type": "markdown",
   "metadata": {},
   "source": [
    "#### Evaluate this box to view the task information table. "
   ]
  },
  {
   "cell_type": "code",
   "execution_count": null,
   "metadata": {
    "collapsed": true
   },
   "outputs": [],
   "source": [
    "from pandas.io.json import json_normalize\n",
    "\n",
    "tt = ray.global_state.task_table()\n",
    "tt_list = list(tt.values())\n",
    "for d in tt_list:\n",
    "    d['TaskSpec']['ReturnObjectIDs'] = [oid.hex() for oid in d['TaskSpec']['ReturnObjectIDs']]\n",
    "    d['TaskSpec']['Args'] = [arg.hex() if isinstance(arg, ray.local_scheduler.ObjectID) else arg for arg in d['TaskSpec']['Args']]\n",
    "\n",
    "task_df = json_normalize(tt_list)\n",
    "if not task_df.empty: \n",
    "    task_df.columns = [\"Local Scheduler ID\", \"State\", \"Actor Counter\", \"ActorID\", \"Arguments\", \"DriverID\", \"FunctionID\", \n",
    "                      \"Parent Counter\", \"Parent Task ID\", \"Required CPUs\", \"Required GPUs\", \"Return Object IDs\", \"TaskID\" ]\n",
    "qgrid.show_grid(task_df, grid_options = {\"forceFitColumns\": True, \"defaultColumnWidth\": 200})"
   ]
  }
 ],
 "metadata": {
  "kernelspec": {
   "display_name": "Python 3",
   "language": "python",
   "name": "python3"
  },
  "language_info": {
   "codemirror_mode": {
    "name": "ipython",
    "version": 3
   },
   "file_extension": ".py",
   "mimetype": "text/x-python",
   "name": "python",
   "nbconvert_exporter": "python",
   "pygments_lexer": "ipython3",
   "version": "3.6.1"
  }
 },
 "nbformat": 4,
 "nbformat_minor": 2
}
