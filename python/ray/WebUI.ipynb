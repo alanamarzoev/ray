{
 "cells": [
  {
   "cell_type": "markdown",
   "metadata": {},
   "source": [
    "# Evaluate the box below to initialize the web UI."
   ]
  },
  {
   "cell_type": "code",
   "execution_count": 3,
   "metadata": {},
   "outputs": [
    {
     "data": {
      "text/html": [
       "<script>\n",
       "  function code_toggle() {\n",
       "    if (code_shown){\n",
       "      $('div.input').hide('500');\n",
       "      $('#toggleButton').val('Show Code')\n",
       "    } else {\n",
       "      $('div.input').show('500');\n",
       "      $('#toggleButton').val('Hide Code')\n",
       "    }\n",
       "    code_shown = !code_shown\n",
       "  }\n",
       "\n",
       "  $( document ).ready(function(){\n",
       "    code_shown=false;\n",
       "    $('div.input').hide()\n",
       "  });\n",
       "</script>\n",
       "<form action=\"javascript:code_toggle()\"><input type=\"submit\" id=\"toggleButton\" value=\"Show Code\"></form>\n",
       "\n",
       "<button id=\"do_run_all\">Click to run all</button>\n",
       "<script>\n",
       "$(\"#do_run_all\").click(\n",
       "    function () {\n",
       "        $(\"#run_all_cells\").click();\n",
       "    }\n",
       ");\n",
       "</script>"
      ],
      "text/plain": [
       "<IPython.core.display.HTML object>"
      ]
     },
     "metadata": {},
     "output_type": "display_data"
    }
   ],
   "source": [
    "%%html\n",
    "<script>\n",
    "  function code_toggle() {\n",
    "    if (code_shown){\n",
    "      $('div.input').hide('500');\n",
    "      $('#toggleButton').val('Show Code')\n",
    "    } else {\n",
    "      $('div.input').show('500');\n",
    "      $('#toggleButton').val('Hide Code')\n",
    "    }\n",
    "    code_shown = !code_shown\n",
    "  }\n",
    "\n",
    "  $( document ).ready(function(){\n",
    "    code_shown=false;\n",
    "    $('div.input').hide()\n",
    "  });\n",
    "</script>\n",
    "<form action=\"javascript:code_toggle()\"><input type=\"submit\" id=\"toggleButton\" value=\"Show Code\"></form>\n",
    "\n",
    "<button id=\"do_run_all\">Click to run all</button>\n",
    "<script>\n",
    "$(\"#do_run_all\").click(\n",
    "    function () {\n",
    "        $(\"#run_all_cells\").click();\n",
    "    }\n",
    ");\n",
    "</script>"
   ]
  },
  {
   "cell_type": "code",
   "execution_count": 4,
   "metadata": {},
   "outputs": [
    {
     "data": {
      "text/plain": [
       "{'local_scheduler_socket_names': ['/tmp/scheduler75331760'],\n",
       " 'node_ip_address': '127.0.0.1',\n",
       " 'object_store_addresses': [ObjectStoreAddress(name='/tmp/plasma_store92861700', manager_name='/tmp/plasma_manager36803456', manager_port=32470)],\n",
       " 'redis_address': '127.0.0.1:34353'}"
      ]
     },
     "execution_count": 4,
     "metadata": {},
     "output_type": "execute_result"
    }
   ],
   "source": [
    "import ipywidgets as widgets\n",
    "import os\n",
    "import pandas as pd\n",
    "import pprint\n",
    "import qgrid\n",
    "import ray\n",
    "import subprocess\n",
    "import sys\n",
    "import tempfile\n",
    "import time\n",
    "\n",
    "from IPython.display import display\n",
    "\n",
    "ray.init(redis_address=os.environ[\"REDIS_ADDRESS\"])"
   ]
  },
  {
   "cell_type": "markdown",
   "metadata": {},
   "source": [
    "**Object search.**"
   ]
  },
  {
   "cell_type": "code",
   "execution_count": 5,
   "metadata": {},
   "outputs": [
    {
     "data": {
      "application/vnd.jupyter.widget-view+json": {
       "model_id": "11b0746825aa4c2f830682d051cc0421"
      }
     },
     "metadata": {},
     "output_type": "display_data"
    }
   ],
   "source": [
    "object_search = widgets.Text(\n",
    "    value=\"\",\n",
    "    placeholder=\"Object ID\",\n",
    "    description=\"Search for an object:\",\n",
    "    disabled=False\n",
    ")\n",
    "display(object_search)\n",
    "\n",
    "def handle_submit(sender):\n",
    "    pp = pprint.PrettyPrinter()\n",
    "    pp.pprint(ray.global_state.object_table(object_search.value))\n",
    "\n",
    "object_search.on_submit(handle_submit)"
   ]
  },
  {
   "cell_type": "markdown",
   "metadata": {},
   "source": [
    "**Task search.**"
   ]
  },
  {
   "cell_type": "code",
   "execution_count": 6,
   "metadata": {},
   "outputs": [
    {
     "data": {
      "application/vnd.jupyter.widget-view+json": {
       "model_id": "0b59f3be94c94c4a8769e32fa35ca5d6"
      }
     },
     "metadata": {},
     "output_type": "display_data"
    }
   ],
   "source": [
    "task_search = widgets.Text(\n",
    "    value=\"\",\n",
    "    placeholder=\"Task ID\",\n",
    "    description=\"Search for a task:\",\n",
    "    disabled=False\n",
    ")\n",
    "display(task_search)\n",
    "\n",
    "def handle_submit(sender):\n",
    "    pp = pprint.PrettyPrinter()\n",
    "    pp.pprint(ray.global_state.task_table(task_search.value))\n",
    "\n",
    "task_search.on_submit(handle_submit)"
   ]
  },
  {
   "cell_type": "markdown",
   "metadata": {},
   "source": [
    "#### Task Timeline"
   ]
  },
  {
   "cell_type": "code",
   "execution_count": 7,
   "metadata": {},
   "outputs": [
    {
     "data": {
      "application/vnd.jupyter.widget-view+json": {
       "model_id": "afbb361870594d6a9e56b6408e3f6758"
      }
     },
     "metadata": {},
     "output_type": "display_data"
    }
   ],
   "source": [
    "path_input = widgets.Button(description=\"View task timeline\")\n",
    "display(path_input)\n",
    "\n",
    "def find_trace2html():\n",
    "    trace2html = os.path.join(\"/Users/michellemarzoev/Desktop/catapult/\", \"tracing/bin/trace2html\")\n",
    "    assert os.path.exists(trace2html), \"Could not find catapult, please clone it into your home directory from https://github.com/catapult-project/catapult/tree/master/tracing\"\n",
    "    return trace2html\n",
    "\n",
    "def handle_submit(sender):\n",
    "    tmp = tempfile.mktemp() + \".json\"\n",
    "    tmp2 = tempfile.mktemp() + \".html\"\n",
    "\n",
    "    print(\"Dumping task profiling data to \" + tmp)\n",
    "    ray.global_state.dump_catapult_trace(tmp)\n",
    "    print(\"Converting chrome trace to \" + tmp2)\n",
    "    trace2html = find_trace2html()\n",
    "    subprocess.check_output([\"python2\", trace2html, tmp, '--output', tmp2])\n",
    "    print(\"Opening html file in browser...\")\n",
    "    subprocess.Popen([\"open\", \"-a\", \"Google Chrome\", tmp2])\n",
    "\n",
    "path_input.on_click(handle_submit)"
   ]
  }
 ],
 "metadata": {
  "kernelspec": {
   "display_name": "Python 3",
   "language": "python",
   "name": "python3"
  },
  "language_info": {
   "codemirror_mode": {
    "name": "ipython",
    "version": 3
   },
   "file_extension": ".py",
   "mimetype": "text/x-python",
   "name": "python",
   "nbconvert_exporter": "python",
   "pygments_lexer": "ipython3",
   "version": "3.6.1"
  }
 },
 "nbformat": 4,
 "nbformat_minor": 2
}
