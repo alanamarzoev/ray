{
 "cells": [
  {
   "cell_type": "markdown",
   "metadata": {},
   "source": [
    "# Evaluate the box below to initialize the web UI."
   ]
  },
  {
   "cell_type": "code",
   "execution_count": null,
   "metadata": {
    "collapsed": true
   },
   "outputs": [],
   "source": [
    "import os\n",
    "import pprint\n",
    "import ipywidgets as widgets\n",
    "import ray\n",
    "\n",
    "from IPython.display import display\n",
    "from ipywidgets import interact"
   ]
  },
  {
   "cell_type": "code",
   "execution_count": null,
   "metadata": {},
   "outputs": [],
   "source": [
    "redis_address = os.environ[\"REDIS_ADDRESS\"]\n",
    "ray.init(redis_address=redis_address)"
   ]
  },
  {
   "cell_type": "code",
   "execution_count": null,
   "metadata": {
    "collapsed": true
   },
   "outputs": [],
   "source": [
    "pp = pprint.PrettyPrinter(indent=3)\n",
    "task_table = ray.global_state.task_table()\n",
    "task_profiles = ray.global_state.task_profiles()\n",
    "task_search = widgets.Text(\n",
    "    value=\"\",\n",
    "    placeholder='Task ID',\n",
    "    description='Search for a task:',\n",
    "    disabled=False\n",
    ")\n",
    "display(task_search)\n",
    "\n",
    "def handle_submit(sender):\n",
    "    if task_search.value in task_table and task_search.value in task_profiles: \n",
    "        task_info = dict(list(task_table[task_search.value].items()) + list(task_profiles[task_search.value].items()))\n",
    "        pp.pprint(task_info)\n",
    "    else:\n",
    "        print(\"Task not found.\")\n",
    "        \n",
    "task_search.on_submit(handle_submit)"
   ]
  }
 ],
 "metadata": {
  "kernelspec": {
   "display_name": "Python 3",
   "language": "python",
   "name": "python3"
  },
  "language_info": {
   "codemirror_mode": {
    "name": "ipython",
    "version": 3
   },
   "file_extension": ".py",
   "mimetype": "text/x-python",
   "name": "python",
   "nbconvert_exporter": "python",
   "pygments_lexer": "ipython3",
   "version": "3.6.1"
  }
 },
 "nbformat": 4,
 "nbformat_minor": 2
}
