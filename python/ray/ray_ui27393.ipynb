{
 "cells": [
  {
   "cell_type": "markdown",
   "metadata": {},
   "source": [
    "# Ray web UI."
   ]
  },
  {
   "cell_type": "markdown",
   "metadata": {},
   "source": [
    "#### Evaluate the cell below to initialize the notebook."
   ]
  },
  {
   "cell_type": "code",
   "execution_count": 11,
   "metadata": {
    "scrolled": true
   },
   "outputs": [
    {
     "data": {
      "text/html": [
       "<script>\n",
       "  function code_toggle() {\n",
       "    if (code_shown){\n",
       "      $('div.input').hide('500');\n",
       "      $('#toggleButton').val('Show Code')\n",
       "    } else {\n",
       "      $('div.input').show('500');\n",
       "      $('#toggleButton').val('Hide Code')\n",
       "    }\n",
       "    code_shown = !code_shown\n",
       "  }\n",
       "\n",
       "  $( document ).ready(function(){\n",
       "    code_shown=false;\n",
       "    $('div.input').hide()\n",
       "  });\n",
       "</script>\n",
       "<form action=\"javascript:code_toggle()\"><input type=\"submit\" id=\"toggleButton\" value=\"Show Code\"></form>"
      ],
      "text/plain": [
       "<IPython.core.display.HTML object>"
      ]
     },
     "metadata": {},
     "output_type": "display_data"
    }
   ],
   "source": [
    "%%html\n",
    "<script>\n",
    "  function code_toggle() {\n",
    "    if (code_shown){\n",
    "      $('div.input').hide('500');\n",
    "      $('#toggleButton').val('Show Code')\n",
    "    } else {\n",
    "      $('div.input').show('500');\n",
    "      $('#toggleButton').val('Hide Code')\n",
    "    }\n",
    "    code_shown = !code_shown\n",
    "  }\n",
    "\n",
    "  $( document ).ready(function(){\n",
    "    code_shown=false;\n",
    "    $('div.input').hide()\n",
    "  });\n",
    "</script>\n",
    "<form action=\"javascript:code_toggle()\"><input type=\"submit\" id=\"toggleButton\" value=\"Show Code\"></form>"
   ]
  },
  {
   "cell_type": "code",
   "execution_count": 12,
   "metadata": {},
   "outputs": [
    {
     "data": {
      "text/html": [
       "<button id=\"do_run_all\">Click to run all</button>\n",
       "<script>\n",
       "$(\"#do_run_all\").click(\n",
       "    function () {\n",
       "        $(\"#run_all_cells\").click();\n",
       "    }\n",
       ");\n",
       "</script>"
      ],
      "text/plain": [
       "<IPython.core.display.HTML object>"
      ]
     },
     "metadata": {},
     "output_type": "display_data"
    }
   ],
   "source": [
    "%%html\n",
    "<button id=\"do_run_all\">Click to run all</button>\n",
    "<script>\n",
    "$(\"#do_run_all\").click(\n",
    "    function () {\n",
    "        $(\"#run_all_cells\").click();\n",
    "    }\n",
    ");\n",
    "</script>"
   ]
  },
  {
   "cell_type": "code",
   "execution_count": 13,
   "metadata": {},
   "outputs": [
    {
     "ename": "AssertionError",
     "evalue": "Perhaps you called ray.init twice by accident?",
     "output_type": "error",
     "traceback": [
      "\u001b[0;31m---------------------------------------------------------------------------\u001b[0m",
      "\u001b[0;31mAssertionError\u001b[0m                            Traceback (most recent call last)",
      "\u001b[0;32m<ipython-input-13-37c0d131c918>\u001b[0m in \u001b[0;36m<module>\u001b[0;34m()\u001b[0m\n\u001b[1;32m     11\u001b[0m \u001b[0;32mfrom\u001b[0m \u001b[0mIPython\u001b[0m\u001b[0;34m.\u001b[0m\u001b[0mdisplay\u001b[0m \u001b[0;32mimport\u001b[0m \u001b[0mdisplay\u001b[0m\u001b[0;34m\u001b[0m\u001b[0m\n\u001b[1;32m     12\u001b[0m \u001b[0;34m\u001b[0m\u001b[0m\n\u001b[0;32m---> 13\u001b[0;31m \u001b[0mray\u001b[0m\u001b[0;34m.\u001b[0m\u001b[0minit\u001b[0m\u001b[0;34m(\u001b[0m\u001b[0mredis_address\u001b[0m\u001b[0;34m=\u001b[0m\u001b[0mos\u001b[0m\u001b[0;34m.\u001b[0m\u001b[0menviron\u001b[0m\u001b[0;34m[\u001b[0m\u001b[0;34m\"REDIS_ADDRESS\"\u001b[0m\u001b[0;34m]\u001b[0m\u001b[0;34m)\u001b[0m\u001b[0;34m\u001b[0m\u001b[0m\n\u001b[0m",
      "\u001b[0;32m/Users/michellemarzoev/Desktop/ray/python/ray/worker.py\u001b[0m in \u001b[0;36minit\u001b[0;34m(redis_address, node_ip_address, object_id_seed, num_workers, driver_mode, redirect_output, num_cpus, num_gpus, num_redis_shards)\u001b[0m\n\u001b[1;32m    974\u001b[0m                \u001b[0mnum_workers\u001b[0m\u001b[0;34m=\u001b[0m\u001b[0mnum_workers\u001b[0m\u001b[0;34m,\u001b[0m \u001b[0mdriver_mode\u001b[0m\u001b[0;34m=\u001b[0m\u001b[0mdriver_mode\u001b[0m\u001b[0;34m,\u001b[0m\u001b[0;34m\u001b[0m\u001b[0m\n\u001b[1;32m    975\u001b[0m                \u001b[0mredirect_output\u001b[0m\u001b[0;34m=\u001b[0m\u001b[0mredirect_output\u001b[0m\u001b[0;34m,\u001b[0m \u001b[0mnum_cpus\u001b[0m\u001b[0;34m=\u001b[0m\u001b[0mnum_cpus\u001b[0m\u001b[0;34m,\u001b[0m\u001b[0;34m\u001b[0m\u001b[0m\n\u001b[0;32m--> 976\u001b[0;31m                num_gpus=num_gpus, num_redis_shards=num_redis_shards)\n\u001b[0m\u001b[1;32m    977\u001b[0m \u001b[0;34m\u001b[0m\u001b[0m\n\u001b[1;32m    978\u001b[0m \u001b[0;34m\u001b[0m\u001b[0m\n",
      "\u001b[0;32m/Users/michellemarzoev/Desktop/ray/python/ray/worker.py\u001b[0m in \u001b[0;36m_init\u001b[0;34m(address_info, start_ray_local, object_id_seed, num_workers, num_local_schedulers, driver_mode, redirect_output, start_workers_from_local_scheduler, num_cpus, num_gpus, num_redis_shards)\u001b[0m\n\u001b[1;32m    926\u001b[0m                                         [\"local_scheduler_socket_names\"][0])}\n\u001b[1;32m    927\u001b[0m   connect(driver_address_info, object_id_seed=object_id_seed, mode=driver_mode,\n\u001b[0;32m--> 928\u001b[0;31m           worker=global_worker, actor_id=NIL_ACTOR_ID)\n\u001b[0m\u001b[1;32m    929\u001b[0m   \u001b[0;32mreturn\u001b[0m \u001b[0maddress_info\u001b[0m\u001b[0;34m\u001b[0m\u001b[0m\n\u001b[1;32m    930\u001b[0m \u001b[0;34m\u001b[0m\u001b[0m\n",
      "\u001b[0;32m/Users/michellemarzoev/Desktop/ray/python/ray/worker.py\u001b[0m in \u001b[0;36mconnect\u001b[0;34m(info, object_id_seed, mode, worker, actor_id)\u001b[0m\n\u001b[1;32m   1256\u001b[0m   \u001b[0;31m# Do some basic checking to make sure we didn't call ray.init twice.\u001b[0m\u001b[0;34m\u001b[0m\u001b[0;34m\u001b[0m\u001b[0m\n\u001b[1;32m   1257\u001b[0m   \u001b[0merror_message\u001b[0m \u001b[0;34m=\u001b[0m \u001b[0;34m\"Perhaps you called ray.init twice by accident?\"\u001b[0m\u001b[0;34m\u001b[0m\u001b[0m\n\u001b[0;32m-> 1258\u001b[0;31m   \u001b[0;32massert\u001b[0m \u001b[0;32mnot\u001b[0m \u001b[0mworker\u001b[0m\u001b[0;34m.\u001b[0m\u001b[0mconnected\u001b[0m\u001b[0;34m,\u001b[0m \u001b[0merror_message\u001b[0m\u001b[0;34m\u001b[0m\u001b[0m\n\u001b[0m\u001b[1;32m   1259\u001b[0m   \u001b[0;32massert\u001b[0m \u001b[0mworker\u001b[0m\u001b[0;34m.\u001b[0m\u001b[0mcached_functions_to_run\u001b[0m \u001b[0;32mis\u001b[0m \u001b[0;32mnot\u001b[0m \u001b[0;32mNone\u001b[0m\u001b[0;34m,\u001b[0m \u001b[0merror_message\u001b[0m\u001b[0;34m\u001b[0m\u001b[0m\n\u001b[1;32m   1260\u001b[0m   \u001b[0;32massert\u001b[0m \u001b[0mworker\u001b[0m\u001b[0;34m.\u001b[0m\u001b[0mcached_remote_functions\u001b[0m \u001b[0;32mis\u001b[0m \u001b[0;32mnot\u001b[0m \u001b[0;32mNone\u001b[0m\u001b[0;34m,\u001b[0m \u001b[0merror_message\u001b[0m\u001b[0;34m\u001b[0m\u001b[0m\n",
      "\u001b[0;31mAssertionError\u001b[0m: Perhaps you called ray.init twice by accident?"
     ]
    }
   ],
   "source": [
    "import os\n",
    "import pandas as pd\n",
    "import pprint\n",
    "import ipywidgets as widgets\n",
    "import qgrid\n",
    "import ray\n",
    "import subprocess\n",
    "import sys\n",
    "import webbrowser\n",
    "\n",
    "from IPython.display import display\n",
    "\n",
    "ray.init(redis_address=os.environ[\"REDIS_ADDRESS\"])"
   ]
  },
  {
   "cell_type": "markdown",
   "metadata": {},
   "source": [
    "#### Task timeline."
   ]
  },
  {
   "cell_type": "code",
   "execution_count": null,
   "metadata": {},
   "outputs": [],
   "source": [
    "path_input = widgets.Button(description=\"View task timeline\")\n",
    "display(path_input)\n",
    "\n",
    "import tempfile\n",
    "\n",
    "def find_trace2html():\n",
    "    trace2html = os.path.join(\"/Users/michellemarzoev/Desktop/catapult/\", \"tracing/bin/trace2html\")\n",
    "    assert os.path.exists(trace2html), \"Could not find catapult, please clone it into your home directory from https://github.com/catapult-project/catapult/tree/master/tracing\"\n",
    "    return trace2html\n",
    "\n",
    "def handle_submit(sender):\n",
    "    tmp = tempfile.mktemp() + \".json\"\n",
    "    tmp2 = tempfile.mktemp() + \".html\"\n",
    "\n",
    "    print(\"Dumping task profiling data to \" + tmp)\n",
    "    ray.global_state.dump_catapult_trace(tmp)\n",
    "    print(\"Converting chrome trace to \" + tmp2)\n",
    "    trace2html = find_trace2html()\n",
    "    subprocess.check_output([\"python2\", trace2html, tmp, '--output', tmp2])\n",
    "    print(\"Opening html file in browser...\")\n",
    "    subprocess.Popen([\"open\", \"-a\", \"Google Chrome\", tmp2])\n",
    "\n",
    "path_input.on_click(handle_submit)"
   ]
  },
  {
   "cell_type": "markdown",
   "metadata": {},
   "source": [
    "**Object search.**"
   ]
  },
  {
   "cell_type": "code",
   "execution_count": null,
   "metadata": {},
   "outputs": [],
   "source": [
    "object_search = widgets.Text(\n",
    "    value=\"\",\n",
    "    placeholder=\"Object ID\",\n",
    "    description=\"Search for an object:\",\n",
    "    disabled=False\n",
    ")\n",
    "display(object_search)\n",
    "\n",
    "def handle_submit(sender):\n",
    "    pp = pprint.PrettyPrinter()\n",
    "    pp.pprint(ray.global_state.object_table(object_search.value))\n",
    "\n",
    "object_search.on_submit(handle_submit)"
   ]
  },
  {
   "cell_type": "markdown",
   "metadata": {},
   "source": [
    "**Task search.**"
   ]
  },
  {
   "cell_type": "code",
   "execution_count": null,
   "metadata": {},
   "outputs": [],
   "source": [
    "task_search = widgets.Text(\n",
    "    value=\"\",\n",
    "    placeholder=\"Task ID\",\n",
    "    description=\"Search for a task:\",\n",
    "    disabled=False\n",
    ")\n",
    "display(task_search)\n",
    "\n",
    "def handle_submit(sender):\n",
    "    pp = pprint.PrettyPrinter()\n",
    "    pp.pprint(ray.global_state.task_table(task_search.value))\n",
    "\n",
    "task_search.on_submit(handle_submit)"
   ]
  },
  {
   "cell_type": "markdown",
   "metadata": {},
   "source": [
    "#### Client information."
   ]
  },
  {
   "cell_type": "code",
   "execution_count": null,
   "metadata": {},
   "outputs": [],
   "source": [
    "ctable = ray.global_state.client_table()\n",
    "\n",
    "client_list = []\n",
    "for node_ip in ctable:\n",
    "    for client in ctable[node_ip]:\n",
    "        client[\"node_ip_address\"] = node_ip\n",
    "        client_list.append(client)\n",
    "\n",
    "client_df = pd.DataFrame(client_list)\n",
    "if not client_df.empty:\n",
    "    client_df.columns = [\"Aux Address\", \"Client Type\", \"DB Client ID\", \"Deleted\", \"Local Scheduler Socket\", \"Num CPUs\", \"NumGPUs\", \"Node IP Address\"]\n",
    "qgrid.show_grid(client_df)"
   ]
  },
  {
   "cell_type": "markdown",
   "metadata": {},
   "source": [
    "#### Function information."
   ]
  },
  {
   "cell_type": "code",
   "execution_count": null,
   "metadata": {},
   "outputs": [],
   "source": [
    "fn_table = ray.global_state.function_table()\n",
    "fn_list = []\n",
    "for fn_id in fn_table:\n",
    "    val = fn_table[fn_id]\n",
    "    val[\"function_id\"] = fn_id\n",
    "    fn_list.append(val)\n",
    "qgrid.nbinstall(overwrite = True)\n",
    "frame = pd.DataFrame(fn_list) \n",
    "frame = frame.reset_index(drop=True)\n",
    "if not frame.empty:\n",
    "    frame.columns = [\"DriverID\", \"Module\", \"Function\", \"FunctionID\"]\n",
    "qgrid.show_grid(frame, grid_options = {\"forceFitColumns\": False, \"defaultColumnWidth\": 200})"
   ]
  },
  {
   "cell_type": "markdown",
   "metadata": {},
   "source": [
    "#### Task information table. "
   ]
  },
  {
   "cell_type": "code",
   "execution_count": null,
   "metadata": {},
   "outputs": [],
   "source": [
    "from pandas.io.json import json_normalize\n",
    "\n",
    "tt = ray.global_state.task_table()\n",
    "tt_list = list(tt.values())\n",
    "for d in tt_list:\n",
    "    d['TaskSpec']['ReturnObjectIDs'] = [oid.hex() for oid in d['TaskSpec']['ReturnObjectIDs']]\n",
    "    d['TaskSpec']['Args'] = [arg.hex() if isinstance(arg, ray.local_scheduler.ObjectID) else arg for arg in d['TaskSpec']['Args']]\n",
    "\n",
    "task_df = json_normalize(tt_list)\n",
    "if not task_df.empty: \n",
    "    task_df.columns = [\"Local Scheduler ID\", \"State\", \"Actor Counter\", \"ActorID\", \"Arguments\", \"DriverID\", \"FunctionID\", \n",
    "                      \"Parent Counter\", \"Parent Task ID\", \"Required CPUs\", \"Required GPUs\", \"Return Object IDs\", \"TaskID\" ]\n",
    "qgrid.show_grid(task_df, grid_options = {\"forceFitColumns\": True, \"defaultColumnWidth\": 200})"
   ]
  }
 ],
 "metadata": {
  "kernelspec": {
   "display_name": "Python 3",
   "language": "python",
   "name": "python3"
  },
  "language_info": {
   "codemirror_mode": {
    "name": "ipython",
    "version": 3
   },
   "file_extension": ".py",
   "mimetype": "text/x-python",
   "name": "python",
   "nbconvert_exporter": "python",
   "pygments_lexer": "ipython3",
   "version": "3.6.1"
  }
 },
 "nbformat": 4,
 "nbformat_minor": 2
}
